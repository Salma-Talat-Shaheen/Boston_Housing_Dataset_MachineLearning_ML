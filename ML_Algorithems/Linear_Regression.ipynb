{
  "cells": [
    {
      "cell_type": "markdown",
      "metadata": {
        "id": "pD0oGsNyPU77"
      },
      "source": [
        "# **Task 2: Linear Regression Task**"
      ]
    },
    {
      "cell_type": "markdown",
      "source": [
        "![download.png](data:image/png;base64,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)"
      ],
      "metadata": {
        "id": "GZPfpWsWgNLU"
      }
    },
    {
      "cell_type": "markdown",
      "metadata": {
        "id": "SMpicw4Crtcm"
      },
      "source": [
        "**Linear Regression** is a machine learning algorithm based on supervised learning. It performs a regression task. Regression models a target prediction value based on independent variables. It is mostly used for finding out the relationship between variables and forecasting.\n",
        "\n",
        "As we are going to predict the price of a house (which is continuous variable), linear regression would be a good choice to consider.\n",
        "\n",
        "\n",
        "------------"
      ]
    },
    {
      "cell_type": "markdown",
      "source": [
        "First, we are going to perform linear regression before any processing (standardization and dimensionality reduction)\n",
        "then, we will perform it after standardization and dimensionality reduction, and compare both results."
      ],
      "metadata": {
        "id": "bO59c-pt1we4"
      }
    },
    {
      "cell_type": "markdown",
      "source": [
        "## **Before processing (PCA & Scaling)**"
      ],
      "metadata": {
        "id": "eLpFfa9EwI0o"
      }
    },
    {
      "cell_type": "markdown",
      "source": [
        "Import linear regression from sklearn library"
      ],
      "metadata": {
        "id": "Qo-V-haDBhIc"
      }
    },
    {
      "cell_type": "code",
      "execution_count": null,
      "metadata": {
        "id": "i2L5dBHr_8LF"
      },
      "outputs": [],
      "source": [
        "from sklearn.linear_model import LinearRegression\n",
        "lin_reg = LinearRegression()"
      ]
    },
    {
      "cell_type": "markdown",
      "source": [
        "Define a function to calculate and present Performance scores\n",
        "- R2\n",
        "- Mean squared error\n",
        "- Mean absolute error\n",
        "- Root Mean squared error\n",
        "\n",
        "for each model."
      ],
      "metadata": {
        "id": "y5xxm8JVDbmh"
      }
    },
    {
      "cell_type": "code",
      "source": [
        "from sklearn.metrics import r2_score\n",
        "from sklearn.metrics import mean_squared_error, mean_absolute_error\n",
        "\n",
        "def performance_metric(y_true, y_predict): # actual y and the predicted one as parameters\n",
        "\n",
        "    r2_test = r2_score(y_true, y_predict) #R2 score\n",
        "    mse_test = mean_squared_error(y_true, y_predict) # Mean squared error\n",
        "    mae_test = mean_absolute_error(y_true, y_predict) # Mean absolute error\n",
        "    rmse_test = np.sqrt(mean_squared_error(y_true, y_predict)) # Root Mean squared error\n",
        "\n",
        "    test_matric = [r2_test, mse_test, mae_test, rmse_test] # matrics contain all scores\n",
        "\n",
        "\n",
        "    # Return scores\n",
        "    return test_matric"
      ],
      "metadata": {
        "id": "g1kqlAGTdZHp"
      },
      "execution_count": null,
      "outputs": []
    },
    {
      "cell_type": "markdown",
      "source": [
        "The above function (**`performance_metric`**) will be used in the below function (**`model_training`**) which take features and target, split them into train and test sets, then fit them to which model is entered as parameter, finally return scores using **`performance_metric`** function as we mentioned before.\n"
      ],
      "metadata": {
        "id": "3Hwi5JC7kj_d"
      }
    },
    {
      "cell_type": "code",
      "execution_count": null,
      "metadata": {
        "id": "5bpDo8prBIj4"
      },
      "outputs": [],
      "source": [
        "def model_training(model, X, y):\n",
        "    X_train, X_test, y_train, y_test = train_test_split(X, y, test_size=0.2, random_state=42) # split into train and test\n",
        "\n",
        "    from sklearn.preprocessing import StandardScaler\n",
        "    scaler = StandardScaler()\n",
        "    X_train = scaler.fit_transform(X_train)\n",
        "    X_test = scaler.transform(X_test)\n",
        "\n",
        "    # training performance\n",
        "    model.fit(X_train,y_train)\n",
        "    train_pred = model.predict(X_train)\n",
        "    train_scores = performance_metric(y_train, train_pred)\n",
        "\n",
        "    # testing performance\n",
        "    test_pred = model.predict(X_test)\n",
        "    test_scores = performance_metric(y_test, test_pred)\n",
        "\n",
        "    per_df = pd.DataFrame([train_scores, test_scores])\n",
        "    per_df.columns = ['R2', 'MSE', 'MAE', 'RMSE']\n",
        "    per_df.index = ['Train', 'Test']\n",
        "\n",
        "    # plot actual vs predicted\n",
        "    plt.scatter(y_test, test_pred)\n",
        "    plt.title('Actual price vs Predicted price')\n",
        "    # Return scores\n",
        "    return per_df"
      ]
    },
    {
      "cell_type": "markdown",
      "metadata": {
        "id": "_DBxM9KqgHRx"
      },
      "source": [
        "### **Model training**"
      ]
    },
    {
      "cell_type": "markdown",
      "source": [
        "In this section We will train Linear Regression twice, **`once on the most correlated features`** with the target price, and **`other with all 13 features`**.\n",
        "\n",
        "then compare results.\n",
        "\n",
        "---\n",
        "\n"
      ],
      "metadata": {
        "id": "4TYXHBtmx8UX"
      }
    },
    {
      "cell_type": "markdown",
      "metadata": {
        "id": "17BipSI8kcQH"
      },
      "source": [
        "#### **Train Most correlated features**"
      ]
    },
    {
      "cell_type": "markdown",
      "source": [
        "##### **The impact of RM squared**"
      ],
      "metadata": {
        "id": "J3TasNMY2SiD"
      }
    },
    {
      "cell_type": "markdown",
      "source": [
        "While reading **`\"Hedonic Housing Prices and the Demand for Clean Air - 1978\"`** paper which is the original paper for this dataset, we noticed in features description section that the paper recommend squaring **RM** feature -represents average number of rooms- because it seems to have better results.\n",
        "We tested this and found a difference in **R2** score with an increase of **0.3**, so we dicided to use it. ([Paper](https://www.law.berkeley.edu/files/Hedonic.PDF))"
      ],
      "metadata": {
        "id": "lmFqFBfL2SiD"
      }
    },
    {
      "cell_type": "code",
      "source": [
        "boston_df[\"RM\"] =  boston_df[\"RM\"] ** 2"
      ],
      "metadata": {
        "id": "iDIjWiuP2SiE"
      },
      "execution_count": null,
      "outputs": []
    },
    {
      "cell_type": "markdown",
      "source": [
        "Splitting data `-that contains Correlated Features-` into features (X) and target (y):"
      ],
      "metadata": {
        "id": "T3SilT8pu9wq"
      }
    },
    {
      "cell_type": "code",
      "execution_count": null,
      "metadata": {
        "id": "n-XRBlz8t3N6"
      },
      "outputs": [],
      "source": [
        "# specifies inputs and target\n",
        "X_multi = boston_df_multi.drop('PRICE', axis=1)\n",
        "y_multi = boston_df_multi['PRICE']"
      ]
    },
    {
      "cell_type": "code",
      "source": [
        "model_training(lin_reg, X_multi, y_multi) # train linear regression model"
      ],
      "metadata": {
        "id": "65okRsKaPo_4",
        "colab": {
          "base_uri": "https://localhost:8080/"
        },
        "outputId": "8bcca083-eaf5-4551-bf7e-ddcc4d2c30fd"
      },
      "execution_count": null,
      "outputs": [
        {
          "output_type": "execute_result",
          "data": {
            "text/plain": [
              "             R2        MSE       MAE      RMSE\n",
              "Train  0.730857  17.124938  3.109886  4.138229\n",
              "Test   0.711133  14.756868  2.979907  3.841467"
            ],
            "text/html": [
              "\n",
              "  <div id=\"df-08a0be69-0832-45ee-a647-a4f086392ee5\">\n",
              "    <div class=\"colab-df-container\">\n",
              "      <div>\n",
              "<style scoped>\n",
              "    .dataframe tbody tr th:only-of-type {\n",
              "        vertical-align: middle;\n",
              "    }\n",
              "\n",
              "    .dataframe tbody tr th {\n",
              "        vertical-align: top;\n",
              "    }\n",
              "\n",
              "    .dataframe thead th {\n",
              "        text-align: right;\n",
              "    }\n",
              "</style>\n",
              "<table border=\"1\" class=\"dataframe\">\n",
              "  <thead>\n",
              "    <tr style=\"text-align: right;\">\n",
              "      <th></th>\n",
              "      <th>R2</th>\n",
              "      <th>MSE</th>\n",
              "      <th>MAE</th>\n",
              "      <th>RMSE</th>\n",
              "    </tr>\n",
              "  </thead>\n",
              "  <tbody>\n",
              "    <tr>\n",
              "      <th>Train</th>\n",
              "      <td>0.730857</td>\n",
              "      <td>17.124938</td>\n",
              "      <td>3.109886</td>\n",
              "      <td>4.138229</td>\n",
              "    </tr>\n",
              "    <tr>\n",
              "      <th>Test</th>\n",
              "      <td>0.711133</td>\n",
              "      <td>14.756868</td>\n",
              "      <td>2.979907</td>\n",
              "      <td>3.841467</td>\n",
              "    </tr>\n",
              "  </tbody>\n",
              "</table>\n",
              "</div>\n",
              "      <button class=\"colab-df-convert\" onclick=\"convertToInteractive('df-08a0be69-0832-45ee-a647-a4f086392ee5')\"\n",
              "              title=\"Convert this dataframe to an interactive table.\"\n",
              "              style=\"display:none;\">\n",
              "        \n",
              "  <svg xmlns=\"http://www.w3.org/2000/svg\" height=\"24px\"viewBox=\"0 0 24 24\"\n",
              "       width=\"24px\">\n",
              "    <path d=\"M0 0h24v24H0V0z\" fill=\"none\"/>\n",
              "    <path d=\"M18.56 5.44l.94 2.06.94-2.06 2.06-.94-2.06-.94-.94-2.06-.94 2.06-2.06.94zm-11 1L8.5 8.5l.94-2.06 2.06-.94-2.06-.94L8.5 2.5l-.94 2.06-2.06.94zm10 10l.94 2.06.94-2.06 2.06-.94-2.06-.94-.94-2.06-.94 2.06-2.06.94z\"/><path d=\"M17.41 7.96l-1.37-1.37c-.4-.4-.92-.59-1.43-.59-.52 0-1.04.2-1.43.59L10.3 9.45l-7.72 7.72c-.78.78-.78 2.05 0 2.83L4 21.41c.39.39.9.59 1.41.59.51 0 1.02-.2 1.41-.59l7.78-7.78 2.81-2.81c.8-.78.8-2.07 0-2.86zM5.41 20L4 18.59l7.72-7.72 1.47 1.35L5.41 20z\"/>\n",
              "  </svg>\n",
              "      </button>\n",
              "      \n",
              "  <style>\n",
              "    .colab-df-container {\n",
              "      display:flex;\n",
              "      flex-wrap:wrap;\n",
              "      gap: 12px;\n",
              "    }\n",
              "\n",
              "    .colab-df-convert {\n",
              "      background-color: #E8F0FE;\n",
              "      border: none;\n",
              "      border-radius: 50%;\n",
              "      cursor: pointer;\n",
              "      display: none;\n",
              "      fill: #1967D2;\n",
              "      height: 32px;\n",
              "      padding: 0 0 0 0;\n",
              "      width: 32px;\n",
              "    }\n",
              "\n",
              "    .colab-df-convert:hover {\n",
              "      background-color: #E2EBFA;\n",
              "      box-shadow: 0px 1px 2px rgba(60, 64, 67, 0.3), 0px 1px 3px 1px rgba(60, 64, 67, 0.15);\n",
              "      fill: #174EA6;\n",
              "    }\n",
              "\n",
              "    [theme=dark] .colab-df-convert {\n",
              "      background-color: #3B4455;\n",
              "      fill: #D2E3FC;\n",
              "    }\n",
              "\n",
              "    [theme=dark] .colab-df-convert:hover {\n",
              "      background-color: #434B5C;\n",
              "      box-shadow: 0px 1px 3px 1px rgba(0, 0, 0, 0.15);\n",
              "      filter: drop-shadow(0px 1px 2px rgba(0, 0, 0, 0.3));\n",
              "      fill: #FFFFFF;\n",
              "    }\n",
              "  </style>\n",
              "\n",
              "      <script>\n",
              "        const buttonEl =\n",
              "          document.querySelector('#df-08a0be69-0832-45ee-a647-a4f086392ee5 button.colab-df-convert');\n",
              "        buttonEl.style.display =\n",
              "          google.colab.kernel.accessAllowed ? 'block' : 'none';\n",
              "\n",
              "        async function convertToInteractive(key) {\n",
              "          const element = document.querySelector('#df-08a0be69-0832-45ee-a647-a4f086392ee5');\n",
              "          const dataTable =\n",
              "            await google.colab.kernel.invokeFunction('convertToInteractive',\n",
              "                                                     [key], {});\n",
              "          if (!dataTable) return;\n",
              "\n",
              "          const docLinkHtml = 'Like what you see? Visit the ' +\n",
              "            '<a target=\"_blank\" href=https://colab.research.google.com/notebooks/data_table.ipynb>data table notebook</a>'\n",
              "            + ' to learn more about interactive tables.';\n",
              "          element.innerHTML = '';\n",
              "          dataTable['output_type'] = 'display_data';\n",
              "          await google.colab.output.renderOutput(dataTable, element);\n",
              "          const docLink = document.createElement('div');\n",
              "          docLink.innerHTML = docLinkHtml;\n",
              "          element.appendChild(docLink);\n",
              "        }\n",
              "      </script>\n",
              "    </div>\n",
              "  </div>\n",
              "  "
            ]
          },
          "metadata": {},
          "execution_count": 76
        },
        {
          "output_type": "display_data",
          "data": {
            "text/plain": [
              "<Figure size 432x288 with 1 Axes>"
            ],
            "image/png": "[encoded data removed]"
          },
          "metadata": {
            "needs_background": "light"
          }
        }
      ]
    },
    {
      "cell_type": "markdown",
      "source": [
        "Training Linear regression on the most correlated features has given **0.76 R2 score** and **11.83 MSE** on the testing set, thus points in scatter plot aren't as compact as it suppose to be.\n",
        "We tried to decrease MSE and increase R2 score by performing **Lasso and Ridge** Regression as shown below."
      ],
      "metadata": {
        "id": "zFGUIkbBF7sC"
      }
    },
    {
      "cell_type": "markdown",
      "source": [
        "##### **Feature selection**"
      ],
      "metadata": {
        "id": "gf-4lmt99OhK"
      }
    },
    {
      "cell_type": "markdown",
      "source": [
        "###### **1- Lasso Regression**"
      ],
      "metadata": {
        "id": "IwZ3IyBbNk4O"
      }
    },
    {
      "cell_type": "markdown",
      "source": [
        "![download.png](data:image/png;base64,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)"
      ],
      "metadata": {
        "id": "j0ek0PjAsk3E"
      }
    },
    {
      "cell_type": "markdown",
      "source": [
        "The LASSO method aims to produce a model that has high accuracy and only uses a subset of the original features. The way it does this is by putting in a constraint where the sum of the absolute values of the coefficients is less than a fixed value. To that end it lowers the size of the coefficients and leads to some features having a coefficient of 0. ([Source](https://medium.com/@zawar-ahmed/comparing-linear-regression-models-lasso-vs-ridge-60587ff5a5aa))\n",
        "\n",
        "\n",
        "---\n",
        "\n"
      ],
      "metadata": {
        "id": "uGh-b57UJJ_a"
      }
    },
    {
      "cell_type": "markdown",
      "source": [
        "Here we used **LassoCV** function from `sklearn.linear_model` which has built in cross validation."
      ],
      "metadata": {
        "id": "sE_ppo-dKv5q"
      }
    },
    {
      "cell_type": "code",
      "source": [
        "from sklearn.linear_model import LassoCV\n",
        "lambda_ = [0, 0.001, 0.003, 0.01, 0.03, 0.1, 0.3, 1, 3, 10]\n",
        "lasscv_m = LassoCV(alphas = lambda_, cv =10, normalize = True)\n",
        "model_training(lasscv_m, X_multi, y_multi)"
      ],
      "metadata": {
        "id": "Mwb6ktNZNl_U",
        "colab": {
          "base_uri": "https://localhost:8080/"
        },
        "outputId": "dd228b70-7d82-4968-f2af-72cf44ef37ac"
      },
      "execution_count": null,
      "outputs": [
        {
          "output_type": "execute_result",
          "data": {
            "text/plain": [
              "             R2        MSE       MAE      RMSE\n",
              "Train  0.730845  17.125696  3.110290  4.138320\n",
              "Test   0.710742  14.776826  2.981998  3.844064"
            ],
            "text/html": [
              "\n",
              "  <div id=\"df-a16862b5-22fb-454d-8976-e033f206a587\">\n",
              "    <div class=\"colab-df-container\">\n",
              "      <div>\n",
              "<style scoped>\n",
              "    .dataframe tbody tr th:only-of-type {\n",
              "        vertical-align: middle;\n",
              "    }\n",
              "\n",
              "    .dataframe tbody tr th {\n",
              "        vertical-align: top;\n",
              "    }\n",
              "\n",
              "    .dataframe thead th {\n",
              "        text-align: right;\n",
              "    }\n",
              "</style>\n",
              "<table border=\"1\" class=\"dataframe\">\n",
              "  <thead>\n",
              "    <tr style=\"text-align: right;\">\n",
              "      <th></th>\n",
              "      <th>R2</th>\n",
              "      <th>MSE</th>\n",
              "      <th>MAE</th>\n",
              "      <th>RMSE</th>\n",
              "    </tr>\n",
              "  </thead>\n",
              "  <tbody>\n",
              "    <tr>\n",
              "      <th>Train</th>\n",
              "      <td>0.730845</td>\n",
              "      <td>17.125696</td>\n",
              "      <td>3.110290</td>\n",
              "      <td>4.138320</td>\n",
              "    </tr>\n",
              "    <tr>\n",
              "      <th>Test</th>\n",
              "      <td>0.710742</td>\n",
              "      <td>14.776826</td>\n",
              "      <td>2.981998</td>\n",
              "      <td>3.844064</td>\n",
              "    </tr>\n",
              "  </tbody>\n",
              "</table>\n",
              "</div>\n",
              "      <button class=\"colab-df-convert\" onclick=\"convertToInteractive('df-a16862b5-22fb-454d-8976-e033f206a587')\"\n",
              "              title=\"Convert this dataframe to an interactive table.\"\n",
              "              style=\"display:none;\">\n",
              "        \n",
              "  <svg xmlns=\"http://www.w3.org/2000/svg\" height=\"24px\"viewBox=\"0 0 24 24\"\n",
              "       width=\"24px\">\n",
              "    <path d=\"M0 0h24v24H0V0z\" fill=\"none\"/>\n",
              "    <path d=\"M18.56 5.44l.94 2.06.94-2.06 2.06-.94-2.06-.94-.94-2.06-.94 2.06-2.06.94zm-11 1L8.5 8.5l.94-2.06 2.06-.94-2.06-.94L8.5 2.5l-.94 2.06-2.06.94zm10 10l.94 2.06.94-2.06 2.06-.94-2.06-.94-.94-2.06-.94 2.06-2.06.94z\"/><path d=\"M17.41 7.96l-1.37-1.37c-.4-.4-.92-.59-1.43-.59-.52 0-1.04.2-1.43.59L10.3 9.45l-7.72 7.72c-.78.78-.78 2.05 0 2.83L4 21.41c.39.39.9.59 1.41.59.51 0 1.02-.2 1.41-.59l7.78-7.78 2.81-2.81c.8-.78.8-2.07 0-2.86zM5.41 20L4 18.59l7.72-7.72 1.47 1.35L5.41 20z\"/>\n",
              "  </svg>\n",
              "      </button>\n",
              "      \n",
              "  <style>\n",
              "    .colab-df-container {\n",
              "      display:flex;\n",
              "      flex-wrap:wrap;\n",
              "      gap: 12px;\n",
              "    }\n",
              "\n",
              "    .colab-df-convert {\n",
              "      background-color: #E8F0FE;\n",
              "      border: none;\n",
              "      border-radius: 50%;\n",
              "      cursor: pointer;\n",
              "      display: none;\n",
              "      fill: #1967D2;\n",
              "      height: 32px;\n",
              "      padding: 0 0 0 0;\n",
              "      width: 32px;\n",
              "    }\n",
              "\n",
              "    .colab-df-convert:hover {\n",
              "      background-color: #E2EBFA;\n",
              "      box-shadow: 0px 1px 2px rgba(60, 64, 67, 0.3), 0px 1px 3px 1px rgba(60, 64, 67, 0.15);\n",
              "      fill: #174EA6;\n",
              "    }\n",
              "\n",
              "    [theme=dark] .colab-df-convert {\n",
              "      background-color: #3B4455;\n",
              "      fill: #D2E3FC;\n",
              "    }\n",
              "\n",
              "    [theme=dark] .colab-df-convert:hover {\n",
              "      background-color: #434B5C;\n",
              "      box-shadow: 0px 1px 3px 1px rgba(0, 0, 0, 0.15);\n",
              "      filter: drop-shadow(0px 1px 2px rgba(0, 0, 0, 0.3));\n",
              "      fill: #FFFFFF;\n",
              "    }\n",
              "  </style>\n",
              "\n",
              "      <script>\n",
              "        const buttonEl =\n",
              "          document.querySelector('#df-a16862b5-22fb-454d-8976-e033f206a587 button.colab-df-convert');\n",
              "        buttonEl.style.display =\n",
              "          google.colab.kernel.accessAllowed ? 'block' : 'none';\n",
              "\n",
              "        async function convertToInteractive(key) {\n",
              "          const element = document.querySelector('#df-a16862b5-22fb-454d-8976-e033f206a587');\n",
              "          const dataTable =\n",
              "            await google.colab.kernel.invokeFunction('convertToInteractive',\n",
              "                                                     [key], {});\n",
              "          if (!dataTable) return;\n",
              "\n",
              "          const docLinkHtml = 'Like what you see? Visit the ' +\n",
              "            '<a target=\"_blank\" href=https://colab.research.google.com/notebooks/data_table.ipynb>data table notebook</a>'\n",
              "            + ' to learn more about interactive tables.';\n",
              "          element.innerHTML = '';\n",
              "          dataTable['output_type'] = 'display_data';\n",
              "          await google.colab.output.renderOutput(dataTable, element);\n",
              "          const docLink = document.createElement('div');\n",
              "          docLink.innerHTML = docLinkHtml;\n",
              "          element.appendChild(docLink);\n",
              "        }\n",
              "      </script>\n",
              "    </div>\n",
              "  </div>\n",
              "  "
            ]
          },
          "metadata": {},
          "execution_count": 77
        },
        {
          "output_type": "display_data",
          "data": {
            "text/plain": [
              "<Figure size 432x288 with 1 Axes>"
            ],
            "image/png": "[encoded data removed]"
          },
          "metadata": {
            "needs_background": "light"
          }
        }
      ]
    },
    {
      "cell_type": "code",
      "source": [
        "alpha_l = lasscv_m.alpha_\n",
        "alpha_l"
      ],
      "metadata": {
        "id": "O6vx7THmCiPH",
        "colab": {
          "base_uri": "https://localhost:8080/"
        },
        "outputId": "4caf506f-efbf-4bd5-b18b-50e331afc62b"
      },
      "execution_count": null,
      "outputs": [
        {
          "output_type": "execute_result",
          "data": {
            "text/plain": [
              "0.001"
            ]
          },
          "metadata": {},
          "execution_count": 78
        }
      ]
    },
    {
      "cell_type": "markdown",
      "source": [
        "It's noticeable that results has slightly increased, now let's move on to Ridge Regression."
      ],
      "metadata": {
        "id": "FF3g4ReuLtVC"
      }
    },
    {
      "cell_type": "markdown",
      "source": [
        "###### **2. Ridge Regression**"
      ],
      "metadata": {
        "id": "VBoqfo64_n5-"
      }
    },
    {
      "cell_type": "markdown",
      "source": [
        "![h.png](data:image/png;base64,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)"
      ],
      "metadata": {
        "id": "rEZWyVZls0Ph"
      }
    },
    {
      "cell_type": "markdown",
      "source": [
        "The Ridge Regression method was one of the most popular methods before the LASSO method came about. The idea is similar, but the process is a little different. The Ridge Regression also aims to lower the sizes of the coefficients to avoid over-fitting, but it does not drop any of the coefficients to zero."
      ],
      "metadata": {
        "id": "xiOMf7SClfu-"
      }
    },
    {
      "cell_type": "code",
      "source": [
        "from sklearn.linear_model import RidgeCV\n",
        "lambda_ = [0, 0.001, 0.003, 0.01, 0.03, 0.1, 0.3, 1, 3, 10]\n",
        "ridgecv_m = RidgeCV(alphas = lambda_, cv=10, normalize = True)\n",
        "model_training(ridgecv_m, X_multi, y_multi)"
      ],
      "metadata": {
        "id": "gZl4vx3j_p61",
        "colab": {
          "base_uri": "https://localhost:8080/"
        },
        "outputId": "2ab5a7ff-3f87-49da-a545-de9ad5ad94dd"
      },
      "execution_count": null,
      "outputs": [
        {
          "output_type": "execute_result",
          "data": {
            "text/plain": [
              "             R2        MSE       MAE      RMSE\n",
              "Train  0.728854  17.252391  3.130092  4.153600\n",
              "Test   0.711977  14.713771  2.990171  3.835853"
            ],
            "text/html": [
              "\n",
              "  <div id=\"df-ef1b48e6-b5c4-42a3-ac3a-380f91a85869\">\n",
              "    <div class=\"colab-df-container\">\n",
              "      <div>\n",
              "<style scoped>\n",
              "    .dataframe tbody tr th:only-of-type {\n",
              "        vertical-align: middle;\n",
              "    }\n",
              "\n",
              "    .dataframe tbody tr th {\n",
              "        vertical-align: top;\n",
              "    }\n",
              "\n",
              "    .dataframe thead th {\n",
              "        text-align: right;\n",
              "    }\n",
              "</style>\n",
              "<table border=\"1\" class=\"dataframe\">\n",
              "  <thead>\n",
              "    <tr style=\"text-align: right;\">\n",
              "      <th></th>\n",
              "      <th>R2</th>\n",
              "      <th>MSE</th>\n",
              "      <th>MAE</th>\n",
              "      <th>RMSE</th>\n",
              "    </tr>\n",
              "  </thead>\n",
              "  <tbody>\n",
              "    <tr>\n",
              "      <th>Train</th>\n",
              "      <td>0.728854</td>\n",
              "      <td>17.252391</td>\n",
              "      <td>3.130092</td>\n",
              "      <td>4.153600</td>\n",
              "    </tr>\n",
              "    <tr>\n",
              "      <th>Test</th>\n",
              "      <td>0.711977</td>\n",
              "      <td>14.713771</td>\n",
              "      <td>2.990171</td>\n",
              "      <td>3.835853</td>\n",
              "    </tr>\n",
              "  </tbody>\n",
              "</table>\n",
              "</div>\n",
              "      <button class=\"colab-df-convert\" onclick=\"convertToInteractive('df-ef1b48e6-b5c4-42a3-ac3a-380f91a85869')\"\n",
              "              title=\"Convert this dataframe to an interactive table.\"\n",
              "              style=\"display:none;\">\n",
              "        \n",
              "  <svg xmlns=\"http://www.w3.org/2000/svg\" height=\"24px\"viewBox=\"0 0 24 24\"\n",
              "       width=\"24px\">\n",
              "    <path d=\"M0 0h24v24H0V0z\" fill=\"none\"/>\n",
              "    <path d=\"M18.56 5.44l.94 2.06.94-2.06 2.06-.94-2.06-.94-.94-2.06-.94 2.06-2.06.94zm-11 1L8.5 8.5l.94-2.06 2.06-.94-2.06-.94L8.5 2.5l-.94 2.06-2.06.94zm10 10l.94 2.06.94-2.06 2.06-.94-2.06-.94-.94-2.06-.94 2.06-2.06.94z\"/><path d=\"M17.41 7.96l-1.37-1.37c-.4-.4-.92-.59-1.43-.59-.52 0-1.04.2-1.43.59L10.3 9.45l-7.72 7.72c-.78.78-.78 2.05 0 2.83L4 21.41c.39.39.9.59 1.41.59.51 0 1.02-.2 1.41-.59l7.78-7.78 2.81-2.81c.8-.78.8-2.07 0-2.86zM5.41 20L4 18.59l7.72-7.72 1.47 1.35L5.41 20z\"/>\n",
              "  </svg>\n",
              "      </button>\n",
              "      \n",
              "  <style>\n",
              "    .colab-df-container {\n",
              "      display:flex;\n",
              "      flex-wrap:wrap;\n",
              "      gap: 12px;\n",
              "    }\n",
              "\n",
              "    .colab-df-convert {\n",
              "      background-color: #E8F0FE;\n",
              "      border: none;\n",
              "      border-radius: 50%;\n",
              "      cursor: pointer;\n",
              "      display: none;\n",
              "      fill: #1967D2;\n",
              "      height: 32px;\n",
              "      padding: 0 0 0 0;\n",
              "      width: 32px;\n",
              "    }\n",
              "\n",
              "    .colab-df-convert:hover {\n",
              "      background-color: #E2EBFA;\n",
              "      box-shadow: 0px 1px 2px rgba(60, 64, 67, 0.3), 0px 1px 3px 1px rgba(60, 64, 67, 0.15);\n",
              "      fill: #174EA6;\n",
              "    }\n",
              "\n",
              "    [theme=dark] .colab-df-convert {\n",
              "      background-color: #3B4455;\n",
              "      fill: #D2E3FC;\n",
              "    }\n",
              "\n",
              "    [theme=dark] .colab-df-convert:hover {\n",
              "      background-color: #434B5C;\n",
              "      box-shadow: 0px 1px 3px 1px rgba(0, 0, 0, 0.15);\n",
              "      filter: drop-shadow(0px 1px 2px rgba(0, 0, 0, 0.3));\n",
              "      fill: #FFFFFF;\n",
              "    }\n",
              "  </style>\n",
              "\n",
              "      <script>\n",
              "        const buttonEl =\n",
              "          document.querySelector('#df-ef1b48e6-b5c4-42a3-ac3a-380f91a85869 button.colab-df-convert');\n",
              "        buttonEl.style.display =\n",
              "          google.colab.kernel.accessAllowed ? 'block' : 'none';\n",
              "\n",
              "        async function convertToInteractive(key) {\n",
              "          const element = document.querySelector('#df-ef1b48e6-b5c4-42a3-ac3a-380f91a85869');\n",
              "          const dataTable =\n",
              "            await google.colab.kernel.invokeFunction('convertToInteractive',\n",
              "                                                     [key], {});\n",
              "          if (!dataTable) return;\n",
              "\n",
              "          const docLinkHtml = 'Like what you see? Visit the ' +\n",
              "            '<a target=\"_blank\" href=https://colab.research.google.com/notebooks/data_table.ipynb>data table notebook</a>'\n",
              "            + ' to learn more about interactive tables.';\n",
              "          element.innerHTML = '';\n",
              "          dataTable['output_type'] = 'display_data';\n",
              "          await google.colab.output.renderOutput(dataTable, element);\n",
              "          const docLink = document.createElement('div');\n",
              "          docLink.innerHTML = docLinkHtml;\n",
              "          element.appendChild(docLink);\n",
              "        }\n",
              "      </script>\n",
              "    </div>\n",
              "  </div>\n",
              "  "
            ]
          },
          "metadata": {},
          "execution_count": 79
        },
        {
          "output_type": "display_data",
          "data": {
            "text/plain": [
              "<Figure size 432x288 with 1 Axes>"
            ],
            "image/png": "[encoded data removed]"
          },
          "metadata": {
            "needs_background": "light"
          }
        }
      ]
    },
    {
      "cell_type": "code",
      "source": [
        "alpha_r = ridgecv_m.alpha_\n",
        "alpha_r"
      ],
      "metadata": {
        "id": "U0mfJsVJClt-",
        "colab": {
          "base_uri": "https://localhost:8080/"
        },
        "outputId": "4b28782a-22ee-4ba2-c21e-c66f541e8697"
      },
      "execution_count": null,
      "outputs": [
        {
          "output_type": "execute_result",
          "data": {
            "text/plain": [
              "0.1"
            ]
          },
          "metadata": {},
          "execution_count": 80
        }
      ]
    },
    {
      "cell_type": "markdown",
      "source": [
        "Results went down again."
      ],
      "metadata": {
        "id": "qwyCs2ICMwZF"
      }
    },
    {
      "cell_type": "markdown",
      "metadata": {
        "id": "RLhXZitcOOsL"
      },
      "source": [
        "##### **Cross validation**"
      ]
    },
    {
      "cell_type": "markdown",
      "source": [
        "**Cross-validation** is a technique for evaluating ML models by training several ML models on subsets of the available input data and evaluating them on the complementary subset of the data. ([check this link](https://docs.aws.amazon.com/machine-learning/latest/dg/cross-validation.html))"
      ],
      "metadata": {
        "id": "t0gi1von8y2N"
      }
    },
    {
      "cell_type": "code",
      "source": [
        "from sklearn.model_selection import cross_val_predict\n",
        "y_pred_cv = cross_val_predict(lin_reg, X_multi, y_multi, cv=5)"
      ],
      "metadata": {
        "id": "qcM-fbtC94tG"
      },
      "execution_count": null,
      "outputs": []
    },
    {
      "cell_type": "code",
      "source": [
        "fig= plt.figure(figsize=(16,8))\n",
        "plt.plot(y_multi[:50], 'g')\n",
        "plt.plot(y_pred_cv[:50], 'r--')\n",
        "plt.legend(['Actual Y', 'Predicted Y'])"
      ],
      "metadata": {
        "id": "Sw1buArI-cmf",
        "colab": {
          "base_uri": "https://localhost:8080/"
        },
        "outputId": "420ca855-be34-497a-eefe-3db2d8742e94"
      },
      "execution_count": null,
      "outputs": [
        {
          "output_type": "execute_result",
          "data": {
            "text/plain": [
              "<matplotlib.legend.Legend at 0x7f23aa6f3400>"
            ]
          },
          "metadata": {},
          "execution_count": 82
        },
        {
          "output_type": "display_data",
          "data": {
            "text/plain": [
              "<Figure size 1152x576 with 1 Axes>"
            ],
            "image/png": "[encoded data removed]"
          },
          "metadata": {
            "needs_background": "light"
          }
        }
      ]
    },
    {
      "cell_type": "code",
      "source": [
        "r2_score(y_multi, y_pred_cv)"
      ],
      "metadata": {
        "id": "Uaq4evGO-0Nu",
        "colab": {
          "base_uri": "https://localhost:8080/"
        },
        "outputId": "3e3c3cc0-4992-4800-9269-ab757d8f6df6"
      },
      "execution_count": null,
      "outputs": [
        {
          "output_type": "execute_result",
          "data": {
            "text/plain": [
              "0.6055121447592182"
            ]
          },
          "metadata": {},
          "execution_count": 83
        }
      ]
    },
    {
      "cell_type": "code",
      "execution_count": null,
      "metadata": {
        "id": "FF4_Op5iOOsM",
        "colab": {
          "base_uri": "https://localhost:8080/"
        },
        "outputId": "ccb108bf-7849-4d40-bad5-bd5bd70e4cf8"
      },
      "outputs": [
        {
          "output_type": "execute_result",
          "data": {
            "text/plain": [
              "array([0.65568115, 0.66745226, 0.39917479, 0.11428414, 0.23376705])"
            ]
          },
          "metadata": {},
          "execution_count": 84
        }
      ],
      "source": [
        "from sklearn.model_selection import cross_val_score\n",
        "scores = cross_val_score(lin_reg, X_multi, y_multi, cv=5)\n",
        "scores"
      ]
    },
    {
      "cell_type": "markdown",
      "metadata": {
        "id": "AUJlFggqkPRk"
      },
      "source": [
        "#### **Train All the features**"
      ]
    },
    {
      "cell_type": "markdown",
      "source": [
        "Splitting data into features (X) and target (y):"
      ],
      "metadata": {
        "id": "rqb1EE6fEVmh"
      }
    },
    {
      "cell_type": "code",
      "source": [
        "X = boston_df.drop(['PRICE'], axis=1)\n",
        "y = boston_df['PRICE']"
      ],
      "metadata": {
        "id": "ROCte_3fCd6R"
      },
      "execution_count": null,
      "outputs": []
    },
    {
      "cell_type": "code",
      "source": [
        "model_training(lin_reg, X, y)"
      ],
      "metadata": {
        "id": "UrWKr-PO3V2p",
        "colab": {
          "base_uri": "https://localhost:8080/"
        },
        "outputId": "2034ca6b-113f-4fa2-b4ae-dc2909068c88"
      },
      "execution_count": null,
      "outputs": [
        {
          "output_type": "execute_result",
          "data": {
            "text/plain": [
              "             R2        MSE       MAE      RMSE\n",
              "Train  0.791888  13.241673  2.698194  3.638911\n",
              "Test   0.782473  11.112451  2.547774  3.333534"
            ],
            "text/html": [
              "\n",
              "  <div id=\"df-ee297e2f-eb3e-4b4a-a05e-b9ccc3ed3b8f\">\n",
              "    <div class=\"colab-df-container\">\n",
              "      <div>\n",
              "<style scoped>\n",
              "    .dataframe tbody tr th:only-of-type {\n",
              "        vertical-align: middle;\n",
              "    }\n",
              "\n",
              "    .dataframe tbody tr th {\n",
              "        vertical-align: top;\n",
              "    }\n",
              "\n",
              "    .dataframe thead th {\n",
              "        text-align: right;\n",
              "    }\n",
              "</style>\n",
              "<table border=\"1\" class=\"dataframe\">\n",
              "  <thead>\n",
              "    <tr style=\"text-align: right;\">\n",
              "      <th></th>\n",
              "      <th>R2</th>\n",
              "      <th>MSE</th>\n",
              "      <th>MAE</th>\n",
              "      <th>RMSE</th>\n",
              "    </tr>\n",
              "  </thead>\n",
              "  <tbody>\n",
              "    <tr>\n",
              "      <th>Train</th>\n",
              "      <td>0.791888</td>\n",
              "      <td>13.241673</td>\n",
              "      <td>2.698194</td>\n",
              "      <td>3.638911</td>\n",
              "    </tr>\n",
              "    <tr>\n",
              "      <th>Test</th>\n",
              "      <td>0.782473</td>\n",
              "      <td>11.112451</td>\n",
              "      <td>2.547774</td>\n",
              "      <td>3.333534</td>\n",
              "    </tr>\n",
              "  </tbody>\n",
              "</table>\n",
              "</div>\n",
              "      <button class=\"colab-df-convert\" onclick=\"convertToInteractive('df-ee297e2f-eb3e-4b4a-a05e-b9ccc3ed3b8f')\"\n",
              "              title=\"Convert this dataframe to an interactive table.\"\n",
              "              style=\"display:none;\">\n",
              "        \n",
              "  <svg xmlns=\"http://www.w3.org/2000/svg\" height=\"24px\"viewBox=\"0 0 24 24\"\n",
              "       width=\"24px\">\n",
              "    <path d=\"M0 0h24v24H0V0z\" fill=\"none\"/>\n",
              "    <path d=\"M18.56 5.44l.94 2.06.94-2.06 2.06-.94-2.06-.94-.94-2.06-.94 2.06-2.06.94zm-11 1L8.5 8.5l.94-2.06 2.06-.94-2.06-.94L8.5 2.5l-.94 2.06-2.06.94zm10 10l.94 2.06.94-2.06 2.06-.94-2.06-.94-.94-2.06-.94 2.06-2.06.94z\"/><path d=\"M17.41 7.96l-1.37-1.37c-.4-.4-.92-.59-1.43-.59-.52 0-1.04.2-1.43.59L10.3 9.45l-7.72 7.72c-.78.78-.78 2.05 0 2.83L4 21.41c.39.39.9.59 1.41.59.51 0 1.02-.2 1.41-.59l7.78-7.78 2.81-2.81c.8-.78.8-2.07 0-2.86zM5.41 20L4 18.59l7.72-7.72 1.47 1.35L5.41 20z\"/>\n",
              "  </svg>\n",
              "      </button>\n",
              "      \n",
              "  <style>\n",
              "    .colab-df-container {\n",
              "      display:flex;\n",
              "      flex-wrap:wrap;\n",
              "      gap: 12px;\n",
              "    }\n",
              "\n",
              "    .colab-df-convert {\n",
              "      background-color: #E8F0FE;\n",
              "      border: none;\n",
              "      border-radius: 50%;\n",
              "      cursor: pointer;\n",
              "      display: none;\n",
              "      fill: #1967D2;\n",
              "      height: 32px;\n",
              "      padding: 0 0 0 0;\n",
              "      width: 32px;\n",
              "    }\n",
              "\n",
              "    .colab-df-convert:hover {\n",
              "      background-color: #E2EBFA;\n",
              "      box-shadow: 0px 1px 2px rgba(60, 64, 67, 0.3), 0px 1px 3px 1px rgba(60, 64, 67, 0.15);\n",
              "      fill: #174EA6;\n",
              "    }\n",
              "\n",
              "    [theme=dark] .colab-df-convert {\n",
              "      background-color: #3B4455;\n",
              "      fill: #D2E3FC;\n",
              "    }\n",
              "\n",
              "    [theme=dark] .colab-df-convert:hover {\n",
              "      background-color: #434B5C;\n",
              "      box-shadow: 0px 1px 3px 1px rgba(0, 0, 0, 0.15);\n",
              "      filter: drop-shadow(0px 1px 2px rgba(0, 0, 0, 0.3));\n",
              "      fill: #FFFFFF;\n",
              "    }\n",
              "  </style>\n",
              "\n",
              "      <script>\n",
              "        const buttonEl =\n",
              "          document.querySelector('#df-ee297e2f-eb3e-4b4a-a05e-b9ccc3ed3b8f button.colab-df-convert');\n",
              "        buttonEl.style.display =\n",
              "          google.colab.kernel.accessAllowed ? 'block' : 'none';\n",
              "\n",
              "        async function convertToInteractive(key) {\n",
              "          const element = document.querySelector('#df-ee297e2f-eb3e-4b4a-a05e-b9ccc3ed3b8f');\n",
              "          const dataTable =\n",
              "            await google.colab.kernel.invokeFunction('convertToInteractive',\n",
              "                                                     [key], {});\n",
              "          if (!dataTable) return;\n",
              "\n",
              "          const docLinkHtml = 'Like what you see? Visit the ' +\n",
              "            '<a target=\"_blank\" href=https://colab.research.google.com/notebooks/data_table.ipynb>data table notebook</a>'\n",
              "            + ' to learn more about interactive tables.';\n",
              "          element.innerHTML = '';\n",
              "          dataTable['output_type'] = 'display_data';\n",
              "          await google.colab.output.renderOutput(dataTable, element);\n",
              "          const docLink = document.createElement('div');\n",
              "          docLink.innerHTML = docLinkHtml;\n",
              "          element.appendChild(docLink);\n",
              "        }\n",
              "      </script>\n",
              "    </div>\n",
              "  </div>\n",
              "  "
            ]
          },
          "metadata": {},
          "execution_count": 86
        },
        {
          "output_type": "display_data",
          "data": {
            "text/plain": [
              "<Figure size 432x288 with 1 Axes>"
            ],
            "image/png": "[encoded data removed]"
          },
          "metadata": {
            "needs_background": "light"
          }
        }
      ]
    },
    {
      "cell_type": "markdown",
      "source": [
        "When we trained Linear Regression model on all the 13 features **R2 has increased by 0.4!**"
      ],
      "metadata": {
        "id": "cc_YMaBdM-bc"
      }
    },
    {
      "cell_type": "markdown",
      "source": [
        "\n",
        "##### **1- Lasso Regression**"
      ],
      "metadata": {
        "id": "swO0l3bC5Ylm"
      }
    },
    {
      "cell_type": "code",
      "source": [
        "from sklearn.linear_model import LassoCV\n",
        "lambda_ = [0, 0.001, 0.003, 0.01, 0.03, 0.1, 0.3, 1, 3, 10]\n",
        "\n",
        "lasscv = LassoCV(alphas = lambda_, cv =5, normalize = True)\n",
        "model_training(lasscv, X, y)\n"
      ],
      "metadata": {
        "id": "yNXqLQxT5wSH",
        "colab": {
          "base_uri": "https://localhost:8080/"
        },
        "outputId": "0e10fa18-4dbf-4646-a115-8e4dd44f4020"
      },
      "execution_count": null,
      "outputs": [
        {
          "output_type": "execute_result",
          "data": {
            "text/plain": [
              "             R2        MSE       MAE      RMSE\n",
              "Train  0.791888  13.241673  2.698194  3.638911\n",
              "Test   0.782473  11.112451  2.547774  3.333534"
            ],
            "text/html": [
              "\n",
              "  <div id=\"df-0453d42b-3023-4dba-b0c3-ad59742e79b2\">\n",
              "    <div class=\"colab-df-container\">\n",
              "      <div>\n",
              "<style scoped>\n",
              "    .dataframe tbody tr th:only-of-type {\n",
              "        vertical-align: middle;\n",
              "    }\n",
              "\n",
              "    .dataframe tbody tr th {\n",
              "        vertical-align: top;\n",
              "    }\n",
              "\n",
              "    .dataframe thead th {\n",
              "        text-align: right;\n",
              "    }\n",
              "</style>\n",
              "<table border=\"1\" class=\"dataframe\">\n",
              "  <thead>\n",
              "    <tr style=\"text-align: right;\">\n",
              "      <th></th>\n",
              "      <th>R2</th>\n",
              "      <th>MSE</th>\n",
              "      <th>MAE</th>\n",
              "      <th>RMSE</th>\n",
              "    </tr>\n",
              "  </thead>\n",
              "  <tbody>\n",
              "    <tr>\n",
              "      <th>Train</th>\n",
              "      <td>0.791888</td>\n",
              "      <td>13.241673</td>\n",
              "      <td>2.698194</td>\n",
              "      <td>3.638911</td>\n",
              "    </tr>\n",
              "    <tr>\n",
              "      <th>Test</th>\n",
              "      <td>0.782473</td>\n",
              "      <td>11.112451</td>\n",
              "      <td>2.547774</td>\n",
              "      <td>3.333534</td>\n",
              "    </tr>\n",
              "  </tbody>\n",
              "</table>\n",
              "</div>\n",
              "      <button class=\"colab-df-convert\" onclick=\"convertToInteractive('df-0453d42b-3023-4dba-b0c3-ad59742e79b2')\"\n",
              "              title=\"Convert this dataframe to an interactive table.\"\n",
              "              style=\"display:none;\">\n",
              "        \n",
              "  <svg xmlns=\"http://www.w3.org/2000/svg\" height=\"24px\"viewBox=\"0 0 24 24\"\n",
              "       width=\"24px\">\n",
              "    <path d=\"M0 0h24v24H0V0z\" fill=\"none\"/>\n",
              "    <path d=\"M18.56 5.44l.94 2.06.94-2.06 2.06-.94-2.06-.94-.94-2.06-.94 2.06-2.06.94zm-11 1L8.5 8.5l.94-2.06 2.06-.94-2.06-.94L8.5 2.5l-.94 2.06-2.06.94zm10 10l.94 2.06.94-2.06 2.06-.94-2.06-.94-.94-2.06-.94 2.06-2.06.94z\"/><path d=\"M17.41 7.96l-1.37-1.37c-.4-.4-.92-.59-1.43-.59-.52 0-1.04.2-1.43.59L10.3 9.45l-7.72 7.72c-.78.78-.78 2.05 0 2.83L4 21.41c.39.39.9.59 1.41.59.51 0 1.02-.2 1.41-.59l7.78-7.78 2.81-2.81c.8-.78.8-2.07 0-2.86zM5.41 20L4 18.59l7.72-7.72 1.47 1.35L5.41 20z\"/>\n",
              "  </svg>\n",
              "      </button>\n",
              "      \n",
              "  <style>\n",
              "    .colab-df-container {\n",
              "      display:flex;\n",
              "      flex-wrap:wrap;\n",
              "      gap: 12px;\n",
              "    }\n",
              "\n",
              "    .colab-df-convert {\n",
              "      background-color: #E8F0FE;\n",
              "      border: none;\n",
              "      border-radius: 50%;\n",
              "      cursor: pointer;\n",
              "      display: none;\n",
              "      fill: #1967D2;\n",
              "      height: 32px;\n",
              "      padding: 0 0 0 0;\n",
              "      width: 32px;\n",
              "    }\n",
              "\n",
              "    .colab-df-convert:hover {\n",
              "      background-color: #E2EBFA;\n",
              "      box-shadow: 0px 1px 2px rgba(60, 64, 67, 0.3), 0px 1px 3px 1px rgba(60, 64, 67, 0.15);\n",
              "      fill: #174EA6;\n",
              "    }\n",
              "\n",
              "    [theme=dark] .colab-df-convert {\n",
              "      background-color: #3B4455;\n",
              "      fill: #D2E3FC;\n",
              "    }\n",
              "\n",
              "    [theme=dark] .colab-df-convert:hover {\n",
              "      background-color: #434B5C;\n",
              "      box-shadow: 0px 1px 3px 1px rgba(0, 0, 0, 0.15);\n",
              "      filter: drop-shadow(0px 1px 2px rgba(0, 0, 0, 0.3));\n",
              "      fill: #FFFFFF;\n",
              "    }\n",
              "  </style>\n",
              "\n",
              "      <script>\n",
              "        const buttonEl =\n",
              "          document.querySelector('#df-0453d42b-3023-4dba-b0c3-ad59742e79b2 button.colab-df-convert');\n",
              "        buttonEl.style.display =\n",
              "          google.colab.kernel.accessAllowed ? 'block' : 'none';\n",
              "\n",
              "        async function convertToInteractive(key) {\n",
              "          const element = document.querySelector('#df-0453d42b-3023-4dba-b0c3-ad59742e79b2');\n",
              "          const dataTable =\n",
              "            await google.colab.kernel.invokeFunction('convertToInteractive',\n",
              "                                                     [key], {});\n",
              "          if (!dataTable) return;\n",
              "\n",
              "          const docLinkHtml = 'Like what you see? Visit the ' +\n",
              "            '<a target=\"_blank\" href=https://colab.research.google.com/notebooks/data_table.ipynb>data table notebook</a>'\n",
              "            + ' to learn more about interactive tables.';\n",
              "          element.innerHTML = '';\n",
              "          dataTable['output_type'] = 'display_data';\n",
              "          await google.colab.output.renderOutput(dataTable, element);\n",
              "          const docLink = document.createElement('div');\n",
              "          docLink.innerHTML = docLinkHtml;\n",
              "          element.appendChild(docLink);\n",
              "        }\n",
              "      </script>\n",
              "    </div>\n",
              "  </div>\n",
              "  "
            ]
          },
          "metadata": {},
          "execution_count": 87
        },
        {
          "output_type": "display_data",
          "data": {
            "text/plain": [
              "<Figure size 432x288 with 1 Axes>"
            ],
            "image/png": "[encoded data removed]"
          },
          "metadata": {
            "needs_background": "light"
          }
        }
      ]
    },
    {
      "cell_type": "code",
      "source": [
        "alpha = lasscv.alpha_\n",
        "alpha"
      ],
      "metadata": {
        "id": "HUKP_rcvDknm",
        "colab": {
          "base_uri": "https://localhost:8080/"
        },
        "outputId": "f3070aeb-de8a-481e-f0c7-58669ac39912"
      },
      "execution_count": null,
      "outputs": [
        {
          "output_type": "execute_result",
          "data": {
            "text/plain": [
              "0.0"
            ]
          },
          "metadata": {},
          "execution_count": 88
        }
      ]
    },
    {
      "cell_type": "markdown",
      "source": [
        "##### **2. Ridge Regression**"
      ],
      "metadata": {
        "id": "Q14w0KPZ75fX"
      }
    },
    {
      "cell_type": "code",
      "source": [
        "from sklearn.linear_model import RidgeCV\n",
        "\n",
        "ridgecv = RidgeCV(alphas = [0, 0.5, 1],cv=5,normalize = True)\n",
        "model_training(ridgecv, X, y)"
      ],
      "metadata": {
        "id": "iOQ1K7UZ7_ae",
        "colab": {
          "base_uri": "https://localhost:8080/"
        },
        "outputId": "39f4d82a-9f56-47ac-f26f-9a6f27f9a404"
      },
      "execution_count": null,
      "outputs": [
        {
          "output_type": "execute_result",
          "data": {
            "text/plain": [
              "             R2        MSE       MAE      RMSE\n",
              "Train  0.791888  13.241673  2.698194  3.638911\n",
              "Test   0.782473  11.112451  2.547774  3.333534"
            ],
            "text/html": [
              "\n",
              "  <div id=\"df-aa33df67-ec9b-4fae-85d4-db505f0d289b\">\n",
              "    <div class=\"colab-df-container\">\n",
              "      <div>\n",
              "<style scoped>\n",
              "    .dataframe tbody tr th:only-of-type {\n",
              "        vertical-align: middle;\n",
              "    }\n",
              "\n",
              "    .dataframe tbody tr th {\n",
              "        vertical-align: top;\n",
              "    }\n",
              "\n",
              "    .dataframe thead th {\n",
              "        text-align: right;\n",
              "    }\n",
              "</style>\n",
              "<table border=\"1\" class=\"dataframe\">\n",
              "  <thead>\n",
              "    <tr style=\"text-align: right;\">\n",
              "      <th></th>\n",
              "      <th>R2</th>\n",
              "      <th>MSE</th>\n",
              "      <th>MAE</th>\n",
              "      <th>RMSE</th>\n",
              "    </tr>\n",
              "  </thead>\n",
              "  <tbody>\n",
              "    <tr>\n",
              "      <th>Train</th>\n",
              "      <td>0.791888</td>\n",
              "      <td>13.241673</td>\n",
              "      <td>2.698194</td>\n",
              "      <td>3.638911</td>\n",
              "    </tr>\n",
              "    <tr>\n",
              "      <th>Test</th>\n",
              "      <td>0.782473</td>\n",
              "      <td>11.112451</td>\n",
              "      <td>2.547774</td>\n",
              "      <td>3.333534</td>\n",
              "    </tr>\n",
              "  </tbody>\n",
              "</table>\n",
              "</div>\n",
              "      <button class=\"colab-df-convert\" onclick=\"convertToInteractive('df-aa33df67-ec9b-4fae-85d4-db505f0d289b')\"\n",
              "              title=\"Convert this dataframe to an interactive table.\"\n",
              "              style=\"display:none;\">\n",
              "        \n",
              "  <svg xmlns=\"http://www.w3.org/2000/svg\" height=\"24px\"viewBox=\"0 0 24 24\"\n",
              "       width=\"24px\">\n",
              "    <path d=\"M0 0h24v24H0V0z\" fill=\"none\"/>\n",
              "    <path d=\"M18.56 5.44l.94 2.06.94-2.06 2.06-.94-2.06-.94-.94-2.06-.94 2.06-2.06.94zm-11 1L8.5 8.5l.94-2.06 2.06-.94-2.06-.94L8.5 2.5l-.94 2.06-2.06.94zm10 10l.94 2.06.94-2.06 2.06-.94-2.06-.94-.94-2.06-.94 2.06-2.06.94z\"/><path d=\"M17.41 7.96l-1.37-1.37c-.4-.4-.92-.59-1.43-.59-.52 0-1.04.2-1.43.59L10.3 9.45l-7.72 7.72c-.78.78-.78 2.05 0 2.83L4 21.41c.39.39.9.59 1.41.59.51 0 1.02-.2 1.41-.59l7.78-7.78 2.81-2.81c.8-.78.8-2.07 0-2.86zM5.41 20L4 18.59l7.72-7.72 1.47 1.35L5.41 20z\"/>\n",
              "  </svg>\n",
              "      </button>\n",
              "      \n",
              "  <style>\n",
              "    .colab-df-container {\n",
              "      display:flex;\n",
              "      flex-wrap:wrap;\n",
              "      gap: 12px;\n",
              "    }\n",
              "\n",
              "    .colab-df-convert {\n",
              "      background-color: #E8F0FE;\n",
              "      border: none;\n",
              "      border-radius: 50%;\n",
              "      cursor: pointer;\n",
              "      display: none;\n",
              "      fill: #1967D2;\n",
              "      height: 32px;\n",
              "      padding: 0 0 0 0;\n",
              "      width: 32px;\n",
              "    }\n",
              "\n",
              "    .colab-df-convert:hover {\n",
              "      background-color: #E2EBFA;\n",
              "      box-shadow: 0px 1px 2px rgba(60, 64, 67, 0.3), 0px 1px 3px 1px rgba(60, 64, 67, 0.15);\n",
              "      fill: #174EA6;\n",
              "    }\n",
              "\n",
              "    [theme=dark] .colab-df-convert {\n",
              "      background-color: #3B4455;\n",
              "      fill: #D2E3FC;\n",
              "    }\n",
              "\n",
              "    [theme=dark] .colab-df-convert:hover {\n",
              "      background-color: #434B5C;\n",
              "      box-shadow: 0px 1px 3px 1px rgba(0, 0, 0, 0.15);\n",
              "      filter: drop-shadow(0px 1px 2px rgba(0, 0, 0, 0.3));\n",
              "      fill: #FFFFFF;\n",
              "    }\n",
              "  </style>\n",
              "\n",
              "      <script>\n",
              "        const buttonEl =\n",
              "          document.querySelector('#df-aa33df67-ec9b-4fae-85d4-db505f0d289b button.colab-df-convert');\n",
              "        buttonEl.style.display =\n",
              "          google.colab.kernel.accessAllowed ? 'block' : 'none';\n",
              "\n",
              "        async function convertToInteractive(key) {\n",
              "          const element = document.querySelector('#df-aa33df67-ec9b-4fae-85d4-db505f0d289b');\n",
              "          const dataTable =\n",
              "            await google.colab.kernel.invokeFunction('convertToInteractive',\n",
              "                                                     [key], {});\n",
              "          if (!dataTable) return;\n",
              "\n",
              "          const docLinkHtml = 'Like what you see? Visit the ' +\n",
              "            '<a target=\"_blank\" href=https://colab.research.google.com/notebooks/data_table.ipynb>data table notebook</a>'\n",
              "            + ' to learn more about interactive tables.';\n",
              "          element.innerHTML = '';\n",
              "          dataTable['output_type'] = 'display_data';\n",
              "          await google.colab.output.renderOutput(dataTable, element);\n",
              "          const docLink = document.createElement('div');\n",
              "          docLink.innerHTML = docLinkHtml;\n",
              "          element.appendChild(docLink);\n",
              "        }\n",
              "      </script>\n",
              "    </div>\n",
              "  </div>\n",
              "  "
            ]
          },
          "metadata": {},
          "execution_count": 89
        },
        {
          "output_type": "display_data",
          "data": {
            "text/plain": [
              "<Figure size 432x288 with 1 Axes>"
            ],
            "image/png": "[encoded data removed]"
          },
          "metadata": {
            "needs_background": "light"
          }
        }
      ]
    },
    {
      "cell_type": "code",
      "source": [
        "ridgecv.alpha_"
      ],
      "metadata": {
        "id": "yyL7DePsB1Qn",
        "colab": {
          "base_uri": "https://localhost:8080/"
        },
        "outputId": "2863e69b-0852-4182-def8-16de33114828"
      },
      "execution_count": null,
      "outputs": [
        {
          "output_type": "execute_result",
          "data": {
            "text/plain": [
              "0.0"
            ]
          },
          "metadata": {},
          "execution_count": 90
        }
      ]
    },
    {
      "cell_type": "markdown",
      "source": [
        "##### **Cross validation**"
      ],
      "metadata": {
        "id": "c4hABfyCN5qC"
      }
    },
    {
      "cell_type": "code",
      "source": [
        "from sklearn.model_selection import cross_val_predict\n",
        "y_pred_cv = cross_val_predict(lin_reg, X, y, cv=5)"
      ],
      "metadata": {
        "id": "IQ9nFZziOGez"
      },
      "execution_count": null,
      "outputs": []
    },
    {
      "cell_type": "code",
      "source": [
        "fig= plt.figure(figsize=(16,8))\n",
        "plt.plot(y[:50], 'g')\n",
        "plt.plot(y_pred_cv[:50], 'r--')\n",
        "plt.legend(['Actual Y', 'Predicted Y'])"
      ],
      "metadata": {
        "id": "iPDtXFinOFoa",
        "colab": {
          "base_uri": "https://localhost:8080/"
        },
        "outputId": "08678295-6d2c-4c4b-aaca-3d0259cb098d"
      },
      "execution_count": null,
      "outputs": [
        {
          "output_type": "execute_result",
          "data": {
            "text/plain": [
              "<matplotlib.legend.Legend at 0x7f23aaaa9cd0>"
            ]
          },
          "metadata": {},
          "execution_count": 92
        },
        {
          "output_type": "display_data",
          "data": {
            "text/plain": [
              "<Figure size 1152x576 with 1 Axes>"
            ],
            "image/png": "[encoded data removed]"
          },
          "metadata": {
            "needs_background": "light"
          }
        }
      ]
    },
    {
      "cell_type": "code",
      "source": [
        "from sklearn.model_selection import cross_val_score\n",
        "scores = cross_val_score(lin_reg, X, y, cv=5)\n",
        "scores"
      ],
      "metadata": {
        "id": "M56bdazvUYe1",
        "colab": {
          "base_uri": "https://localhost:8080/"
        },
        "outputId": "b764fcee-f83f-4a50-aa49-459a2d034575"
      },
      "execution_count": null,
      "outputs": [
        {
          "output_type": "execute_result",
          "data": {
            "text/plain": [
              "array([0.70385453, 0.79289319, 0.58994107, 0.10701103, 0.15586806])"
            ]
          },
          "metadata": {},
          "execution_count": 93
        }
      ]
    },
    {
      "cell_type": "markdown",
      "source": [
        "## **After processing (PCA & Scaling)**"
      ],
      "metadata": {
        "id": "FuPhen7Lwj4w"
      }
    },
    {
      "cell_type": "markdown",
      "source": [
        "Previously we use PCA for dimensionality reduction, now we are going to fit it onto Linear regression.\n",
        "\n",
        "---"
      ],
      "metadata": {
        "id": "TFK6bRgaObmV"
      }
    },
    {
      "cell_type": "markdown",
      "source": [
        "Define function for training a model on data."
      ],
      "metadata": {
        "id": "HmvN1aUVtESr"
      }
    },
    {
      "cell_type": "code",
      "source": [
        "def pca_training(model, X_train_pca0, y_train_pca0, X_test_pca0, y_test_pca0):\n",
        "  model.fit(X_train_pca0, y_train_pca0)\n",
        "  train_pred = model.predict(X_train_pca0)\n",
        "  test_pred = model.predict(X_test_pca0)\n",
        "\n",
        "  per_matric_train = performance_metric(y_train_pca0, train_pred)\n",
        "  per_matric_test = performance_metric(y_test_pca0, test_pred)\n",
        "\n",
        "  per_df = pd.DataFrame([per_matric_train, per_matric_test])\n",
        "  per_df.columns = ['R2', 'MSE', 'MAE', 'RMSE']\n",
        "  per_df.index = ['Train', 'Test']\n",
        "\n",
        "  plt.scatter(y_test_pca0, test_pred)\n",
        "  return per_df"
      ],
      "metadata": {
        "id": "baF8IiUuard2"
      },
      "execution_count": null,
      "outputs": []
    },
    {
      "cell_type": "code",
      "source": [
        "# get a copy of train, test sets\n",
        "X_train_pca2 = X_train_pca\n",
        "y_train_pca2 = y_train_pca\n",
        "X_test_pca2 = X_test_pca\n",
        "y_test_pca2 = y_test_pca"
      ],
      "metadata": {
        "id": "HBhn_I3IYhPg"
      },
      "execution_count": null,
      "outputs": []
    },
    {
      "cell_type": "code",
      "execution_count": null,
      "metadata": {
        "id": "HkRz-j86lD2Z"
      },
      "outputs": [],
      "source": [
        "# import linear Regression\n",
        "from sklearn.linear_model import LinearRegression\n",
        "lin_reg = LinearRegression()"
      ]
    },
    {
      "cell_type": "code",
      "source": [
        "pca_training(lin_reg, X_train_pca2, y_train_pca2, X_test_pca2, y_test_pca2)"
      ],
      "metadata": {
        "id": "eFCQfrBbG3Fz",
        "colab": {
          "base_uri": "https://localhost:8080/"
        },
        "outputId": "75d930cd-2389-47d4-94d3-3b0ef4f9b070"
      },
      "execution_count": null,
      "outputs": [
        {
          "output_type": "execute_result",
          "data": {
            "text/plain": [
              "             R2        MSE       MAE      RMSE\n",
              "Train  0.734504  16.265003  2.930381  4.032989\n",
              "Test   0.712095  14.707742  2.927055  3.835067"
            ],
            "text/html": [
              "\n",
              "  <div id=\"df-274724e3-363d-48b1-aafe-f5d42df35de4\">\n",
              "    <div class=\"colab-df-container\">\n",
              "      <div>\n",
              "<style scoped>\n",
              "    .dataframe tbody tr th:only-of-type {\n",
              "        vertical-align: middle;\n",
              "    }\n",
              "\n",
              "    .dataframe tbody tr th {\n",
              "        vertical-align: top;\n",
              "    }\n",
              "\n",
              "    .dataframe thead th {\n",
              "        text-align: right;\n",
              "    }\n",
              "</style>\n",
              "<table border=\"1\" class=\"dataframe\">\n",
              "  <thead>\n",
              "    <tr style=\"text-align: right;\">\n",
              "      <th></th>\n",
              "      <th>R2</th>\n",
              "      <th>MSE</th>\n",
              "      <th>MAE</th>\n",
              "      <th>RMSE</th>\n",
              "    </tr>\n",
              "  </thead>\n",
              "  <tbody>\n",
              "    <tr>\n",
              "      <th>Train</th>\n",
              "      <td>0.734504</td>\n",
              "      <td>16.265003</td>\n",
              "      <td>2.930381</td>\n",
              "      <td>4.032989</td>\n",
              "    </tr>\n",
              "    <tr>\n",
              "      <th>Test</th>\n",
              "      <td>0.712095</td>\n",
              "      <td>14.707742</td>\n",
              "      <td>2.927055</td>\n",
              "      <td>3.835067</td>\n",
              "    </tr>\n",
              "  </tbody>\n",
              "</table>\n",
              "</div>\n",
              "      <button class=\"colab-df-convert\" onclick=\"convertToInteractive('df-274724e3-363d-48b1-aafe-f5d42df35de4')\"\n",
              "              title=\"Convert this dataframe to an interactive table.\"\n",
              "              style=\"display:none;\">\n",
              "        \n",
              "  <svg xmlns=\"http://www.w3.org/2000/svg\" height=\"24px\"viewBox=\"0 0 24 24\"\n",
              "       width=\"24px\">\n",
              "    <path d=\"M0 0h24v24H0V0z\" fill=\"none\"/>\n",
              "    <path d=\"M18.56 5.44l.94 2.06.94-2.06 2.06-.94-2.06-.94-.94-2.06-.94 2.06-2.06.94zm-11 1L8.5 8.5l.94-2.06 2.06-.94-2.06-.94L8.5 2.5l-.94 2.06-2.06.94zm10 10l.94 2.06.94-2.06 2.06-.94-2.06-.94-.94-2.06-.94 2.06-2.06.94z\"/><path d=\"M17.41 7.96l-1.37-1.37c-.4-.4-.92-.59-1.43-.59-.52 0-1.04.2-1.43.59L10.3 9.45l-7.72 7.72c-.78.78-.78 2.05 0 2.83L4 21.41c.39.39.9.59 1.41.59.51 0 1.02-.2 1.41-.59l7.78-7.78 2.81-2.81c.8-.78.8-2.07 0-2.86zM5.41 20L4 18.59l7.72-7.72 1.47 1.35L5.41 20z\"/>\n",
              "  </svg>\n",
              "      </button>\n",
              "      \n",
              "  <style>\n",
              "    .colab-df-container {\n",
              "      display:flex;\n",
              "      flex-wrap:wrap;\n",
              "      gap: 12px;\n",
              "    }\n",
              "\n",
              "    .colab-df-convert {\n",
              "      background-color: #E8F0FE;\n",
              "      border: none;\n",
              "      border-radius: 50%;\n",
              "      cursor: pointer;\n",
              "      display: none;\n",
              "      fill: #1967D2;\n",
              "      height: 32px;\n",
              "      padding: 0 0 0 0;\n",
              "      width: 32px;\n",
              "    }\n",
              "\n",
              "    .colab-df-convert:hover {\n",
              "      background-color: #E2EBFA;\n",
              "      box-shadow: 0px 1px 2px rgba(60, 64, 67, 0.3), 0px 1px 3px 1px rgba(60, 64, 67, 0.15);\n",
              "      fill: #174EA6;\n",
              "    }\n",
              "\n",
              "    [theme=dark] .colab-df-convert {\n",
              "      background-color: #3B4455;\n",
              "      fill: #D2E3FC;\n",
              "    }\n",
              "\n",
              "    [theme=dark] .colab-df-convert:hover {\n",
              "      background-color: #434B5C;\n",
              "      box-shadow: 0px 1px 3px 1px rgba(0, 0, 0, 0.15);\n",
              "      filter: drop-shadow(0px 1px 2px rgba(0, 0, 0, 0.3));\n",
              "      fill: #FFFFFF;\n",
              "    }\n",
              "  </style>\n",
              "\n",
              "      <script>\n",
              "        const buttonEl =\n",
              "          document.querySelector('#df-274724e3-363d-48b1-aafe-f5d42df35de4 button.colab-df-convert');\n",
              "        buttonEl.style.display =\n",
              "          google.colab.kernel.accessAllowed ? 'block' : 'none';\n",
              "\n",
              "        async function convertToInteractive(key) {\n",
              "          const element = document.querySelector('#df-274724e3-363d-48b1-aafe-f5d42df35de4');\n",
              "          const dataTable =\n",
              "            await google.colab.kernel.invokeFunction('convertToInteractive',\n",
              "                                                     [key], {});\n",
              "          if (!dataTable) return;\n",
              "\n",
              "          const docLinkHtml = 'Like what you see? Visit the ' +\n",
              "            '<a target=\"_blank\" href=https://colab.research.google.com/notebooks/data_table.ipynb>data table notebook</a>'\n",
              "            + ' to learn more about interactive tables.';\n",
              "          element.innerHTML = '';\n",
              "          dataTable['output_type'] = 'display_data';\n",
              "          await google.colab.output.renderOutput(dataTable, element);\n",
              "          const docLink = document.createElement('div');\n",
              "          docLink.innerHTML = docLinkHtml;\n",
              "          element.appendChild(docLink);\n",
              "        }\n",
              "      </script>\n",
              "    </div>\n",
              "  </div>\n",
              "  "
            ]
          },
          "metadata": {},
          "execution_count": 97
        },
        {
          "output_type": "display_data",
          "data": {
            "text/plain": [
              "<Figure size 432x288 with 1 Axes>"
            ],
            "image/png": "[encoded data removed]"
          },
          "metadata": {
            "needs_background": "light"
          }
        }
      ]
    },
    {
      "cell_type": "markdown",
      "source": [
        "## **Model Selection**\n"
      ],
      "metadata": {
        "id": "zW--TDKjhFRD"
      }
    },
    {
      "cell_type": "markdown",
      "source": [
        "The highest Evaluation matrics has been recorded was when we trained** Linear Regression on All 13 feature**.\n",
        "that is:\n",
        "\n",
        "**R2 score: `0.78`**\n",
        "\n",
        "**MSE: `11.1`**\n",
        "\n",
        "**MAE: `2.54`**\n",
        "\n",
        "**RMSE: `3.33`**"
      ],
      "metadata": {
        "id": "FDfkULRRhID7"
      }
    },
    {
      "cell_type": "markdown",
      "source": [
        "\n",
        "\n",
        "---\n",
        "\n"
      ],
      "metadata": {
        "id": "Wolh9eC4xYGR"
      }
    }
  ],
  "metadata": {
    "colab": {
      "provenance": [],
      "collapsed_sections": [
        "iClI-UsvOCJF",
        "yIF20tWZOfWz",
        "Oa-4PcxqWZDJ",
        "GQV0dtb4YLFW",
        "2AiqK4xpor6_",
        "g8g7x7Azihx1",
        "6FXVjvtfPROU",
        "pD0oGsNyPU77",
        "eLpFfa9EwI0o",
        "FuPhen7Lwj4w",
        "zW--TDKjhFRD"
      ]
    },
    "kernelspec": {
      "display_name": "Python 3",
      "name": "python3"
    },
    "language_info": {
      "name": "python"
    }
  },
  "nbformat": 4,
  "nbformat_minor": 0
}