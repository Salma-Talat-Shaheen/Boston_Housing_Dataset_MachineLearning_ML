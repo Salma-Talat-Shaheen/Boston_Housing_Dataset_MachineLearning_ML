{
  "cells": [
    {
      "cell_type": "markdown",
      "source": [
        "\n",
        "# **Task 3: Neural Networks**"
      ],
      "metadata": {
        "id": "K8Im_NdPv1MR"
      }
    },
    {
      "cell_type": "markdown",
      "source": [
        "**A Multi-Layer Perceptron (MLP)**is a type of artificial neural network that is often used for supervised learning problems, such as image recognition and natural language processing. It consists of multiple layers of artificial neurons, with each layer connected to the previous and next layers. The input layer receives the input data, and the output layer produces the network's predictions. The layers in between are called hidden layers and their role is to learn the underlying patterns in the input data."
      ],
      "metadata": {
        "id": "JKyAbN9YtYPf"
      }
    },
    {
      "cell_type": "markdown",
      "source": [
        "In this specific task, **MLP** is used for predicting the housing prices in Boston. The model is trained on a dataset that includes various features of the houses such as crime rate, average number of rooms, and the distance to employment centers. The model is trained to learn the relationship between these features and the housing prices.\n",
        "\n",
        "MLP networks are particularly well-suited for this task because they can handle a large number of input features and can model complex non-linear relationships between inputs and outputs. They also have the ability to learn and generalize from the dataset.\n",
        "\n",
        "In addition, MLP networks are easy to implement and have been widely used in many different applications, making it a good choice for this task."
      ],
      "metadata": {
        "id": "EJg1AoTgt1_J"
      }
    },
    {
      "cell_type": "markdown",
      "source": [
        "MLP (Multilayer Perceptron) networks were chosen for the task of predicting housing prices in Boston because they are well-suited for handling a large number of input features, can model complex non-linear relationships between inputs and outputs, easy to implement and have been widely used in many different applications, thus making it a good choice for this task."
      ],
      "metadata": {
        "id": "5wwUNxF-uJhl"
      }
    },
    {
      "cell_type": "markdown",
      "source": [
        "![images.png](data:image/png;base64,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)"
      ],
      "metadata": {
        "id": "3FknbeUZvqIS"
      }
    },
    {
      "cell_type": "code",
      "execution_count": null,
      "metadata": {
        "id": "CW4LUyFgO9PT"
      },
      "outputs": [],
      "source": [
        "#import necessary libraries\n",
        "import pandas as pd\n",
        "import numpy as np\n",
        "import tensorflow as tf\n",
        "from tensorflow import keras\n",
        "import matplotlib.pyplot as plt\n",
        "from sklearn.model_selection import train_test_split\n",
        "from keras.callbacks import EarlyStopping\n"
      ]
    },
    {
      "cell_type": "code",
      "execution_count": null,
      "metadata": {
        "id": "d3s6VsLdQ_I5",
        "colab": {
          "base_uri": "https://localhost:8080/"
        },
        "outputId": "de0097fa-b41e-404e-8ef0-af128f5f775f"
      },
      "outputs": [
        {
          "output_type": "stream",
          "name": "stdout",
          "text": [
            "      CRIM    ZN  INDUS  CHAS    NOX         RM   AGE     DIS  RAD    TAX  \\\n",
            "0  0.00632  18.0   2.31   0.0  0.538  43.230625  65.2  4.0900  1.0  296.0   \n",
            "1  0.02731   0.0   7.07   0.0  0.469  41.229241  78.9  4.9671  2.0  242.0   \n",
            "2  0.02729   0.0   7.07   0.0  0.469  51.624225  61.1  4.9671  2.0  242.0   \n",
            "3  0.03237   0.0   2.18   0.0  0.458  48.972004  45.8  6.0622  3.0  222.0   \n",
            "4  0.06905   0.0   2.18   0.0  0.458  51.079609  54.2  6.0622  3.0  222.0   \n",
            "\n",
            "   PTRATIO       B  LSTAT  \n",
            "0     15.3  396.90   4.98  \n",
            "1     17.8  396.90   9.14  \n",
            "2     17.8  392.83   4.03  \n",
            "3     18.7  394.63   2.94  \n",
            "4     18.7  396.90   5.33  \n",
            "\n",
            " 0    24.0\n",
            "1    21.6\n",
            "2    34.7\n",
            "3    33.4\n",
            "4    36.2\n",
            "Name: PRICE, dtype: float64\n"
          ]
        }
      ],
      "source": [
        "# separate the training and target variable\n",
        "feature = boston_df.iloc[:,0:13] #  training variables\n",
        "target = boston_df.iloc[:,13] # target varible\n",
        "print(feature.head())\n",
        "print('\\n',target.head())"
      ]
    },
    {
      "cell_type": "markdown",
      "metadata": {
        "id": "BptR-CSSZIju"
      },
      "source": [
        "### Build   MLP network:  \n",
        "The keras   was used to build the network. The network has  **5 hidden layers   of 150 nodes/**neurons. The first layer is the **input layer** of **13 units** since we have 13 features those need to use for training  and **out put layer**with single unit. The  Below is the summary of the  model.\n"
      ]
    },
    {
      "cell_type": "markdown",
      "source": [
        "The choice of 5 hidden layers of 150 nodes/neurons in the MLP model is based on the assumption that the problem is complex, the model needs to extract features at multiple levels of abstraction and the model needs enough capacity to learn the underlying patterns in the data. However, the optimal number of layers and nodes will depend on the dataset, the problem, and the specific requirements of the task."
      ],
      "metadata": {
        "id": "I5ML2QCUvhAm"
      }
    },
    {
      "cell_type": "markdown",
      "source": [
        "The input layer of an MLP network designed to solve this problem would take in a set of features for a particular house such as the crime rate, average number of rooms per dwelling, the age of the house and so on. The hidden layers would then process these features and extract patterns and relationships that are relevant to predicting the median value of the house. For example, the first hidden layer might learn to recognize the relationship between crime rate and median value, the second hidden layer might learn to recognize the relationship between the age of the house and median value and so on.\n",
        "\n",
        "The final output of the hidden layers is then passed to the output layer, where it is used to produce the network's predictions. The output layer would have one neuron that would predict the median value of the house. The prediction will be a continuous value, so the activation function in the output neuron would be a linear function."
      ],
      "metadata": {
        "id": "3lJ_8WtMsPGP"
      }
    },
    {
      "cell_type": "markdown",
      "source": [
        "The hyperparameters used in this MLP model are :\n",
        "\n",
        "- Number of layers: 5 (5 hidden layers)\n",
        "\n",
        "- Number of neurons in each layer: 150\n",
        "\n",
        "- Activation function: ReLU (Rectified Linear Unit)\n",
        "\n",
        "- Optimizer: Adam\n",
        "\n",
        "- Loss function: Mean Squared Error (MSE)\n",
        "\n",
        "- Evaluation metric: Mean Absolute Error (MAE)\n",
        "\n",
        "- Number of epochs: 300\n",
        "\n",
        "- Validation split: 0.2 (20% of the training set is used for validation)\n",
        "\n",
        "- Early stopping: monitor='val_loss', patience=15"
      ],
      "metadata": {
        "id": "WWHpDTkCeF5J"
      }
    },
    {
      "cell_type": "code",
      "source": [
        "\n",
        "#import necessary libraries\n",
        "import pandas as pd\n",
        "import numpy as np\n",
        "import tensorflow as tf\n",
        "from tensorflow import keras\n",
        "import matplotlib.pyplot as plt\n",
        "from sklearn.model_selection import train_test_split\n",
        "from keras.callbacks import EarlyStopping\n",
        "\n"
      ],
      "metadata": {
        "id": "kssdfxRnUag5"
      },
      "execution_count": null,
      "outputs": []
    },
    {
      "cell_type": "code",
      "source": [
        "\n",
        "from sklearn.model_selection import train_test_split\n",
        "# separate the training and target variable\n",
        "feature = boston_df.iloc[:,0:13] #  training variables\n",
        "target = boston_df.iloc[:,13] # target varible\n",
        "# shuffle and split data into train (~70%) and test (~30%)\n",
        "X_train, X_test, y_train, y_test = train_test_split(feature, target.values, test_size=0.2, random_state=42)\n",
        "\n",
        "print('training data shape: ',X_train.shape)\n",
        "print('testing data shape: ',X_test.shape)\n"
      ],
      "metadata": {
        "id": "WuSp9ePVySwC",
        "colab": {
          "base_uri": "https://localhost:8080/"
        },
        "outputId": "4502f148-8632-4c00-ffa7-d9c37f0857aa"
      },
      "execution_count": null,
      "outputs": [
        {
          "output_type": "stream",
          "name": "stdout",
          "text": [
            "training data shape:  (392, 13)\n",
            "testing data shape:  (98, 13)\n"
          ]
        }
      ]
    },
    {
      "cell_type": "markdown",
      "metadata": {
        "id": "OCV8WZf5Zdcx"
      },
      "source": [
        "The  model  was  complied  with  **'adam'**  optimiser  and  loss  value  with  mean  square  root. And,  Mean  absolute error was used as metric."
      ]
    },
    {
      "cell_type": "markdown",
      "source": [
        " ###  Creating our  model using Sequential :"
      ],
      "metadata": {
        "id": "1pqp83ioFa7j"
      }
    },
    {
      "cell_type": "markdown",
      "source": [
        "This code creates a Sequential model using the Keras library and adds layers to it. The number of columns in the training data is stored in the variable n_cols by using the shape attribute of the training data. Then, 5 hidden layers are added to the model with 150 nodes/neurons each and the activation function used is ReLU (Rectified Linear Unit). The input shape of the first layer is the number of columns in the training data, this will help to set the input dimension of the model. The last layer is the output layer with one unit."
      ],
      "metadata": {
        "id": "fnGGdS9GwYkv"
      }
    },
    {
      "cell_type": "code",
      "execution_count": null,
      "metadata": {
        "id": "Q_-pgpqGSSDf"
      },
      "outputs": [],
      "source": [
        "'''===== Build MLP Network ====='''\n",
        "\n",
        "#get number of columns in training data\n",
        "n_cols = X_train.shape[1]                                                       #number of columns in the training data\n",
        "\n",
        "# builds model\n",
        "model = keras.Sequential()\n",
        "\n",
        "model.add(keras.layers.Dense(150, activation=tf.nn.relu,\n",
        "                       input_shape=(n_cols,)))\n",
        "model.add(keras.layers.Dense(150, activation=tf.nn.relu))\n",
        "model.add(keras.layers.Dense(150, activation=tf.nn.relu))\n",
        "model.add(keras.layers.Dense(150, activation=tf.nn.relu))\n",
        "model.add(keras.layers.Dense(150, activation=tf.nn.relu))\n",
        "model.add(keras.layers.Dense(1))\n",
        "\n"
      ]
    },
    {
      "cell_type": "markdown",
      "source": [
        "### Compile the model"
      ],
      "metadata": {
        "id": "hJKEWSPBHQpM"
      }
    },
    {
      "cell_type": "markdown",
      "source": [
        "The model is compiled with Mean Squared Error loss function, Adam optimizer and Mean Absolute Error metric to train and evaluate its performance in a regression problem"
      ],
      "metadata": {
        "id": "E_gdz1gNNG5w"
      }
    },
    {
      "cell_type": "markdown",
      "source": [
        "In this case, the loss function used is 'mse' (Mean Squared Error) which is a commonly used loss function for regression problems. MSE measures the average of the squared differences between the predicted and true values. It is a widely used loss function for regression problems, and it's the most common loss function for linear regression.\n",
        "\n",
        "The optimizer used is 'adam', it's one of the most widely used optimization algorithms for deep learning. Adam is an adaptive learning rate optimization algorithm that's been designed specifically for training deep neural networks. It's computationally efficient and has been shown to work well in practice.\n",
        "\n",
        "Finally, the evaluation metric is 'mae' (Mean Absolute Error) which is used to evaluate the performance of the model on the validation set. It measures the average of the absolute differences between the predicted and true values."
      ],
      "metadata": {
        "id": "yc5iNzTcwybl"
      }
    },
    {
      "cell_type": "code",
      "source": [
        "#compile model\n",
        "model.compile(loss='mse', optimizer='adam', metrics=['mae']) # use metric as mean absolute error\n",
        "#inspect the model\n",
        "model.summary()"
      ],
      "metadata": {
        "id": "fqo2pccfHQ5q",
        "colab": {
          "base_uri": "https://localhost:8080/"
        },
        "outputId": "2c4f2240-3ab0-4df8-82fe-71cfaeae3500"
      },
      "execution_count": null,
      "outputs": [
        {
          "output_type": "stream",
          "name": "stdout",
          "text": [
            "Model: \"sequential\"\n",
            "_________________________________________________________________\n",
            " Layer (type)                Output Shape              Param #   \n",
            "=================================================================\n",
            " dense (Dense)               (None, 150)               2100      \n",
            "                                                                 \n",
            " dense_1 (Dense)             (None, 150)               22650     \n",
            "                                                                 \n",
            " dense_2 (Dense)             (None, 150)               22650     \n",
            "                                                                 \n",
            " dense_3 (Dense)             (None, 150)               22650     \n",
            "                                                                 \n",
            " dense_4 (Dense)             (None, 150)               22650     \n",
            "                                                                 \n",
            " dense_5 (Dense)             (None, 1)                 151       \n",
            "                                                                 \n",
            "=================================================================\n",
            "Total params: 92,851\n",
            "Trainable params: 92,851\n",
            "Non-trainable params: 0\n",
            "_________________________________________________________________\n"
          ]
        }
      ]
    },
    {
      "cell_type": "markdown",
      "source": [
        "### Model Training"
      ],
      "metadata": {
        "id": "XQ1Xg0qeNbUC"
      }
    },
    {
      "cell_type": "code",
      "execution_count": null,
      "metadata": {
        "id": "GHWYb5-6SR_3",
        "colab": {
          "base_uri": "https://localhost:8080/"
        },
        "outputId": "fc782484-0d48-44ae-c549-09c388a1bb12"
      },
      "outputs": [
        {
          "output_type": "stream",
          "name": "stdout",
          "text": [
            "Epoch 1/300\n",
            "10/10 [==============================] - 1s 31ms/step - loss: 215.5566 - mae: 10.7575 - val_loss: 88.6806 - val_mae: 8.0907\n",
            "Epoch 2/300\n",
            "10/10 [==============================] - 0s 9ms/step - loss: 56.7158 - mae: 5.8887 - val_loss: 56.3215 - val_mae: 6.3515\n",
            "Epoch 3/300\n",
            "10/10 [==============================] - 0s 6ms/step - loss: 47.8929 - mae: 5.2836 - val_loss: 46.2381 - val_mae: 5.5205\n",
            "Epoch 4/300\n",
            "10/10 [==============================] - 0s 6ms/step - loss: 40.6092 - mae: 4.9599 - val_loss: 46.6450 - val_mae: 5.7229\n",
            "Epoch 5/300\n",
            "10/10 [==============================] - 0s 7ms/step - loss: 43.5416 - mae: 5.1818 - val_loss: 32.8497 - val_mae: 4.3706\n",
            "Epoch 6/300\n",
            "10/10 [==============================] - 0s 6ms/step - loss: 39.0419 - mae: 4.7801 - val_loss: 37.5923 - val_mae: 4.5287\n",
            "Epoch 7/300\n",
            "10/10 [==============================] - 0s 7ms/step - loss: 38.6696 - mae: 4.8936 - val_loss: 38.2475 - val_mae: 4.5587\n",
            "Epoch 8/300\n",
            "10/10 [==============================] - 0s 6ms/step - loss: 36.9602 - mae: 4.5825 - val_loss: 31.3057 - val_mae: 4.1011\n",
            "Epoch 9/300\n",
            "10/10 [==============================] - 0s 7ms/step - loss: 33.9199 - mae: 4.5466 - val_loss: 28.3223 - val_mae: 3.9147\n",
            "Epoch 10/300\n",
            "10/10 [==============================] - 0s 6ms/step - loss: 32.0908 - mae: 4.3459 - val_loss: 29.8804 - val_mae: 4.4963\n",
            "Epoch 11/300\n",
            "10/10 [==============================] - 0s 9ms/step - loss: 28.1834 - mae: 4.1963 - val_loss: 25.3567 - val_mae: 3.7545\n",
            "Epoch 12/300\n",
            "10/10 [==============================] - 0s 8ms/step - loss: 29.4651 - mae: 4.1068 - val_loss: 30.9405 - val_mae: 4.6139\n",
            "Epoch 13/300\n",
            "10/10 [==============================] - 0s 6ms/step - loss: 29.3885 - mae: 4.3446 - val_loss: 26.2261 - val_mae: 4.2392\n",
            "Epoch 14/300\n",
            "10/10 [==============================] - 0s 6ms/step - loss: 22.8064 - mae: 3.6817 - val_loss: 23.1697 - val_mae: 3.5978\n",
            "Epoch 15/300\n",
            "10/10 [==============================] - 0s 10ms/step - loss: 23.0396 - mae: 3.6619 - val_loss: 32.9858 - val_mae: 4.8077\n",
            "Epoch 16/300\n",
            "10/10 [==============================] - 0s 6ms/step - loss: 20.3655 - mae: 3.5625 - val_loss: 15.8605 - val_mae: 2.9925\n",
            "Epoch 17/300\n",
            "10/10 [==============================] - 0s 7ms/step - loss: 17.3138 - mae: 3.2497 - val_loss: 12.9617 - val_mae: 2.7590\n",
            "Epoch 18/300\n",
            "10/10 [==============================] - 0s 6ms/step - loss: 15.2622 - mae: 3.0147 - val_loss: 20.9786 - val_mae: 3.7498\n",
            "Epoch 19/300\n",
            "10/10 [==============================] - 0s 8ms/step - loss: 15.2536 - mae: 2.9815 - val_loss: 10.5753 - val_mae: 2.5258\n",
            "Epoch 20/300\n",
            "10/10 [==============================] - 0s 8ms/step - loss: 16.7179 - mae: 3.1391 - val_loss: 12.0837 - val_mae: 2.6822\n",
            "Epoch 21/300\n",
            "10/10 [==============================] - 0s 7ms/step - loss: 14.7885 - mae: 2.9732 - val_loss: 11.1896 - val_mae: 2.5939\n",
            "Epoch 22/300\n",
            "10/10 [==============================] - 0s 8ms/step - loss: 12.8117 - mae: 2.7536 - val_loss: 12.8044 - val_mae: 2.7701\n",
            "Epoch 23/300\n",
            "10/10 [==============================] - 0s 6ms/step - loss: 16.0539 - mae: 3.1786 - val_loss: 16.3568 - val_mae: 3.1354\n",
            "Epoch 24/300\n",
            "10/10 [==============================] - 0s 6ms/step - loss: 15.1132 - mae: 3.0348 - val_loss: 11.1296 - val_mae: 2.5656\n",
            "Epoch 25/300\n",
            "10/10 [==============================] - 0s 6ms/step - loss: 18.2629 - mae: 3.2997 - val_loss: 10.5250 - val_mae: 2.5019\n",
            "Epoch 26/300\n",
            "10/10 [==============================] - 0s 6ms/step - loss: 17.0158 - mae: 3.2304 - val_loss: 11.7416 - val_mae: 2.5746\n",
            "Epoch 27/300\n",
            "10/10 [==============================] - 0s 6ms/step - loss: 11.9408 - mae: 2.6299 - val_loss: 13.0534 - val_mae: 2.7963\n",
            "Epoch 28/300\n",
            "10/10 [==============================] - 0s 9ms/step - loss: 13.0251 - mae: 2.6566 - val_loss: 9.7392 - val_mae: 2.3823\n",
            "Epoch 29/300\n",
            "10/10 [==============================] - 0s 7ms/step - loss: 11.2088 - mae: 2.5214 - val_loss: 17.6747 - val_mae: 3.3968\n",
            "Epoch 30/300\n",
            "10/10 [==============================] - 0s 6ms/step - loss: 16.1984 - mae: 3.1442 - val_loss: 9.7034 - val_mae: 2.3546\n",
            "Epoch 31/300\n",
            "10/10 [==============================] - 0s 8ms/step - loss: 15.5507 - mae: 3.1046 - val_loss: 16.2859 - val_mae: 3.1348\n",
            "Epoch 32/300\n",
            "10/10 [==============================] - 0s 6ms/step - loss: 15.6077 - mae: 3.0967 - val_loss: 12.1893 - val_mae: 2.6340\n",
            "Epoch 33/300\n",
            "10/10 [==============================] - 0s 9ms/step - loss: 17.0744 - mae: 3.2410 - val_loss: 18.4506 - val_mae: 3.4188\n",
            "Epoch 34/300\n",
            "10/10 [==============================] - 0s 7ms/step - loss: 18.0537 - mae: 3.2926 - val_loss: 10.2664 - val_mae: 2.4374\n",
            "Epoch 35/300\n",
            "10/10 [==============================] - 0s 6ms/step - loss: 12.3887 - mae: 2.6851 - val_loss: 10.9615 - val_mae: 2.4850\n",
            "Epoch 36/300\n",
            "10/10 [==============================] - 0s 6ms/step - loss: 11.9977 - mae: 2.6654 - val_loss: 10.3531 - val_mae: 2.4546\n",
            "Epoch 37/300\n",
            "10/10 [==============================] - 0s 7ms/step - loss: 11.6950 - mae: 2.5652 - val_loss: 11.9332 - val_mae: 2.5961\n",
            "Epoch 38/300\n",
            "10/10 [==============================] - 0s 6ms/step - loss: 10.9299 - mae: 2.5483 - val_loss: 9.0084 - val_mae: 2.2461\n",
            "Epoch 39/300\n",
            "10/10 [==============================] - 0s 9ms/step - loss: 11.7612 - mae: 2.5399 - val_loss: 10.0957 - val_mae: 2.2995\n",
            "Epoch 40/300\n",
            "10/10 [==============================] - 0s 14ms/step - loss: 11.8084 - mae: 2.5847 - val_loss: 12.4266 - val_mae: 2.7184\n",
            "Epoch 41/300\n",
            "10/10 [==============================] - 0s 8ms/step - loss: 13.6656 - mae: 2.8313 - val_loss: 10.4567 - val_mae: 2.4224\n",
            "Epoch 42/300\n",
            "10/10 [==============================] - 0s 9ms/step - loss: 12.8897 - mae: 2.7930 - val_loss: 19.9699 - val_mae: 3.7558\n",
            "Epoch 43/300\n",
            "10/10 [==============================] - 0s 8ms/step - loss: 13.2318 - mae: 2.8044 - val_loss: 7.8307 - val_mae: 2.1003\n",
            "Epoch 44/300\n",
            "10/10 [==============================] - 0s 9ms/step - loss: 12.2558 - mae: 2.7295 - val_loss: 9.6760 - val_mae: 2.3542\n",
            "Epoch 45/300\n",
            "10/10 [==============================] - 0s 7ms/step - loss: 12.6202 - mae: 2.7288 - val_loss: 10.0343 - val_mae: 2.3812\n",
            "Epoch 46/300\n",
            "10/10 [==============================] - 0s 7ms/step - loss: 12.3439 - mae: 2.7319 - val_loss: 9.4970 - val_mae: 2.3237\n",
            "Epoch 47/300\n",
            "10/10 [==============================] - 0s 6ms/step - loss: 12.7216 - mae: 2.7372 - val_loss: 10.2285 - val_mae: 2.4777\n",
            "Epoch 48/300\n",
            "10/10 [==============================] - 0s 8ms/step - loss: 11.9485 - mae: 2.6782 - val_loss: 8.6648 - val_mae: 2.2189\n",
            "Epoch 49/300\n",
            "10/10 [==============================] - 0s 8ms/step - loss: 9.9672 - mae: 2.3483 - val_loss: 8.6287 - val_mae: 2.1725\n",
            "Epoch 50/300\n",
            "10/10 [==============================] - 0s 6ms/step - loss: 9.4969 - mae: 2.3128 - val_loss: 9.6614 - val_mae: 2.3953\n",
            "Epoch 51/300\n",
            "10/10 [==============================] - 0s 8ms/step - loss: 10.0779 - mae: 2.4311 - val_loss: 12.1115 - val_mae: 2.7620\n",
            "Epoch 52/300\n",
            "10/10 [==============================] - 0s 7ms/step - loss: 13.0955 - mae: 2.8230 - val_loss: 14.3117 - val_mae: 3.0867\n",
            "Epoch 53/300\n",
            "10/10 [==============================] - 0s 7ms/step - loss: 11.1038 - mae: 2.6035 - val_loss: 6.9533 - val_mae: 1.8917\n",
            "Epoch 54/300\n",
            "10/10 [==============================] - 0s 7ms/step - loss: 9.0342 - mae: 2.2844 - val_loss: 8.7509 - val_mae: 2.1776\n",
            "Epoch 55/300\n",
            "10/10 [==============================] - 0s 8ms/step - loss: 9.4619 - mae: 2.3162 - val_loss: 6.7556 - val_mae: 1.9098\n",
            "Epoch 56/300\n",
            "10/10 [==============================] - 0s 8ms/step - loss: 9.8218 - mae: 2.3859 - val_loss: 10.2580 - val_mae: 2.5354\n",
            "Epoch 57/300\n",
            "10/10 [==============================] - 0s 8ms/step - loss: 10.9655 - mae: 2.4481 - val_loss: 8.8355 - val_mae: 2.2313\n",
            "Epoch 58/300\n",
            "10/10 [==============================] - 0s 9ms/step - loss: 10.0439 - mae: 2.3761 - val_loss: 6.6909 - val_mae: 1.8992\n",
            "Epoch 59/300\n",
            "10/10 [==============================] - 0s 6ms/step - loss: 8.3031 - mae: 2.1803 - val_loss: 8.7715 - val_mae: 2.1686\n",
            "Epoch 60/300\n",
            "10/10 [==============================] - 0s 7ms/step - loss: 8.8609 - mae: 2.2839 - val_loss: 6.9992 - val_mae: 1.9886\n",
            "Epoch 61/300\n",
            "10/10 [==============================] - 0s 6ms/step - loss: 8.6233 - mae: 2.2222 - val_loss: 9.5238 - val_mae: 2.3241\n",
            "Epoch 62/300\n",
            "10/10 [==============================] - 0s 6ms/step - loss: 10.3505 - mae: 2.5574 - val_loss: 10.4484 - val_mae: 2.4966\n",
            "Epoch 63/300\n",
            "10/10 [==============================] - 0s 9ms/step - loss: 10.0170 - mae: 2.4234 - val_loss: 6.2216 - val_mae: 1.7812\n",
            "Epoch 64/300\n",
            "10/10 [==============================] - 0s 8ms/step - loss: 9.5110 - mae: 2.3732 - val_loss: 8.8263 - val_mae: 2.2978\n",
            "Epoch 65/300\n",
            "10/10 [==============================] - 0s 9ms/step - loss: 15.1299 - mae: 3.1362 - val_loss: 7.4811 - val_mae: 2.0374\n",
            "Epoch 66/300\n",
            "10/10 [==============================] - 0s 6ms/step - loss: 12.8107 - mae: 2.7087 - val_loss: 12.6756 - val_mae: 2.7596\n",
            "Epoch 67/300\n",
            "10/10 [==============================] - 0s 7ms/step - loss: 12.0469 - mae: 2.7619 - val_loss: 8.3498 - val_mae: 2.1642\n",
            "Epoch 68/300\n",
            "10/10 [==============================] - 0s 6ms/step - loss: 8.6957 - mae: 2.2923 - val_loss: 6.8121 - val_mae: 1.9276\n",
            "Epoch 69/300\n",
            "10/10 [==============================] - 0s 9ms/step - loss: 9.0317 - mae: 2.2448 - val_loss: 9.8332 - val_mae: 2.4474\n",
            "Epoch 70/300\n",
            "10/10 [==============================] - 0s 10ms/step - loss: 10.6922 - mae: 2.5460 - val_loss: 11.8796 - val_mae: 2.7980\n",
            "Epoch 71/300\n",
            "10/10 [==============================] - 0s 7ms/step - loss: 10.5396 - mae: 2.4787 - val_loss: 10.1210 - val_mae: 2.4971\n",
            "Epoch 72/300\n",
            "10/10 [==============================] - 0s 7ms/step - loss: 9.6875 - mae: 2.3505 - val_loss: 6.8708 - val_mae: 1.8784\n",
            "Epoch 73/300\n",
            "10/10 [==============================] - 0s 6ms/step - loss: 8.2443 - mae: 2.1644 - val_loss: 6.7476 - val_mae: 1.9780\n",
            "Epoch 74/300\n",
            "10/10 [==============================] - 0s 9ms/step - loss: 8.2132 - mae: 2.1991 - val_loss: 10.1494 - val_mae: 2.4317\n",
            "Epoch 75/300\n",
            "10/10 [==============================] - 0s 8ms/step - loss: 7.7243 - mae: 2.1715 - val_loss: 6.1491 - val_mae: 1.8394\n",
            "Epoch 76/300\n",
            "10/10 [==============================] - 0s 9ms/step - loss: 7.0416 - mae: 2.0068 - val_loss: 7.0729 - val_mae: 2.0415\n",
            "Epoch 77/300\n",
            "10/10 [==============================] - 0s 9ms/step - loss: 7.6114 - mae: 2.0720 - val_loss: 6.9828 - val_mae: 2.0262\n",
            "Epoch 78/300\n",
            "10/10 [==============================] - 0s 8ms/step - loss: 8.3237 - mae: 2.1875 - val_loss: 7.0979 - val_mae: 2.0460\n",
            "Epoch 79/300\n",
            "10/10 [==============================] - 0s 7ms/step - loss: 7.6384 - mae: 2.1186 - val_loss: 7.3465 - val_mae: 2.0126\n",
            "Epoch 80/300\n",
            "10/10 [==============================] - 0s 7ms/step - loss: 8.0115 - mae: 2.1762 - val_loss: 6.2614 - val_mae: 1.8713\n",
            "Epoch 81/300\n",
            "10/10 [==============================] - 0s 7ms/step - loss: 7.9535 - mae: 2.1605 - val_loss: 13.1367 - val_mae: 2.9421\n",
            "Epoch 82/300\n",
            "10/10 [==============================] - 0s 7ms/step - loss: 9.6090 - mae: 2.4405 - val_loss: 13.7581 - val_mae: 2.9148\n",
            "Epoch 83/300\n",
            "10/10 [==============================] - 0s 8ms/step - loss: 11.5126 - mae: 2.6122 - val_loss: 9.2792 - val_mae: 2.3320\n",
            "Epoch 84/300\n",
            "10/10 [==============================] - 0s 7ms/step - loss: 9.0163 - mae: 2.2989 - val_loss: 11.6580 - val_mae: 2.7185\n",
            "Epoch 85/300\n",
            "10/10 [==============================] - 0s 6ms/step - loss: 9.9377 - mae: 2.5368 - val_loss: 8.7442 - val_mae: 2.1919\n",
            "Epoch 86/300\n",
            "10/10 [==============================] - 0s 6ms/step - loss: 10.1678 - mae: 2.5015 - val_loss: 15.4120 - val_mae: 3.2476\n",
            "Epoch 87/300\n",
            "10/10 [==============================] - 0s 6ms/step - loss: 9.6650 - mae: 2.4246 - val_loss: 9.8749 - val_mae: 2.3876\n",
            "Epoch 88/300\n",
            "10/10 [==============================] - 0s 6ms/step - loss: 8.2533 - mae: 2.2332 - val_loss: 5.7527 - val_mae: 1.7739\n",
            "Epoch 89/300\n",
            "10/10 [==============================] - 0s 6ms/step - loss: 7.2039 - mae: 2.0675 - val_loss: 6.4601 - val_mae: 1.9087\n",
            "Epoch 90/300\n",
            "10/10 [==============================] - 0s 7ms/step - loss: 6.5426 - mae: 1.9697 - val_loss: 5.9174 - val_mae: 1.7944\n",
            "Epoch 91/300\n",
            "10/10 [==============================] - 0s 9ms/step - loss: 6.7690 - mae: 1.9828 - val_loss: 8.0137 - val_mae: 2.1685\n",
            "Epoch 92/300\n",
            "10/10 [==============================] - 0s 7ms/step - loss: 7.3584 - mae: 2.0974 - val_loss: 12.7416 - val_mae: 2.7115\n",
            "Epoch 93/300\n",
            "10/10 [==============================] - 0s 6ms/step - loss: 7.3171 - mae: 2.0946 - val_loss: 8.7567 - val_mae: 2.2499\n",
            "Epoch 94/300\n",
            "10/10 [==============================] - 0s 8ms/step - loss: 8.3286 - mae: 2.2631 - val_loss: 8.7809 - val_mae: 2.2906\n",
            "Epoch 95/300\n",
            "10/10 [==============================] - 0s 7ms/step - loss: 6.6935 - mae: 2.0029 - val_loss: 6.8813 - val_mae: 2.0288\n",
            "Epoch 96/300\n",
            "10/10 [==============================] - 0s 7ms/step - loss: 6.3684 - mae: 1.9074 - val_loss: 6.1686 - val_mae: 1.8653\n",
            "Epoch 97/300\n",
            "10/10 [==============================] - 0s 7ms/step - loss: 7.1331 - mae: 2.0555 - val_loss: 7.2398 - val_mae: 2.0619\n",
            "Epoch 98/300\n",
            "10/10 [==============================] - 0s 8ms/step - loss: 7.2945 - mae: 2.0391 - val_loss: 7.8676 - val_mae: 2.2222\n",
            "Epoch 99/300\n",
            "10/10 [==============================] - 0s 8ms/step - loss: 6.8733 - mae: 2.0400 - val_loss: 6.2237 - val_mae: 1.8764\n",
            "Epoch 100/300\n",
            "10/10 [==============================] - 0s 6ms/step - loss: 6.7471 - mae: 1.9900 - val_loss: 7.0335 - val_mae: 2.0008\n",
            "Epoch 101/300\n",
            "10/10 [==============================] - 0s 9ms/step - loss: 6.8462 - mae: 1.9889 - val_loss: 6.9646 - val_mae: 1.9567\n",
            "Epoch 102/300\n",
            "10/10 [==============================] - 0s 6ms/step - loss: 6.6682 - mae: 2.0190 - val_loss: 6.3595 - val_mae: 1.8863\n",
            "Epoch 103/300\n",
            "10/10 [==============================] - 0s 9ms/step - loss: 5.9075 - mae: 1.8631 - val_loss: 7.9668 - val_mae: 2.2021\n"
          ]
        }
      ],
      "source": [
        "#train model and perform validation test\n",
        "\n",
        "early_stop = EarlyStopping(monitor='val_loss', patience=15) # stops training when it doesn't show improvemnet.\n",
        "\n",
        "history = model.fit(X_train, y_train, epochs=300,\n",
        "          validation_split=0.2, verbose=1, callbacks=[early_stop])"
      ]
    },
    {
      "cell_type": "code",
      "source": [
        "hist_df = pd.DataFrame(history.history)\n",
        "hist_df['epoch'] = history.epoch\n",
        "hist_df.tail()\n"
      ],
      "metadata": {
        "id": "NzA7OIp9QtQB",
        "colab": {
          "base_uri": "https://localhost:8080/",
          "height": 206
        },
        "outputId": "3ec8af64-068c-4208-efff-2eb636e6f17a"
      },
      "execution_count": null,
      "outputs": [
        {
          "output_type": "execute_result",
          "data": {
            "text/plain": [
              "         loss       mae  val_loss   val_mae  epoch\n",
              "98   6.873268  2.039995  6.223675  1.876426     98\n",
              "99   6.747060  1.990021  7.033503  2.000750     99\n",
              "100  6.846215  1.988918  6.964616  1.956684    100\n",
              "101  6.668152  2.018996  6.359541  1.886348    101\n",
              "102  5.907451  1.863106  7.966761  2.202112    102"
            ],
            "text/html": [
              "\n",
              "  <div id=\"df-d36094dd-61c1-4ac8-b3c8-5067aadfa652\">\n",
              "    <div class=\"colab-df-container\">\n",
              "      <div>\n",
              "<style scoped>\n",
              "    .dataframe tbody tr th:only-of-type {\n",
              "        vertical-align: middle;\n",
              "    }\n",
              "\n",
              "    .dataframe tbody tr th {\n",
              "        vertical-align: top;\n",
              "    }\n",
              "\n",
              "    .dataframe thead th {\n",
              "        text-align: right;\n",
              "    }\n",
              "</style>\n",
              "<table border=\"1\" class=\"dataframe\">\n",
              "  <thead>\n",
              "    <tr style=\"text-align: right;\">\n",
              "      <th></th>\n",
              "      <th>loss</th>\n",
              "      <th>mae</th>\n",
              "      <th>val_loss</th>\n",
              "      <th>val_mae</th>\n",
              "      <th>epoch</th>\n",
              "    </tr>\n",
              "  </thead>\n",
              "  <tbody>\n",
              "    <tr>\n",
              "      <th>98</th>\n",
              "      <td>6.873268</td>\n",
              "      <td>2.039995</td>\n",
              "      <td>6.223675</td>\n",
              "      <td>1.876426</td>\n",
              "      <td>98</td>\n",
              "    </tr>\n",
              "    <tr>\n",
              "      <th>99</th>\n",
              "      <td>6.747060</td>\n",
              "      <td>1.990021</td>\n",
              "      <td>7.033503</td>\n",
              "      <td>2.000750</td>\n",
              "      <td>99</td>\n",
              "    </tr>\n",
              "    <tr>\n",
              "      <th>100</th>\n",
              "      <td>6.846215</td>\n",
              "      <td>1.988918</td>\n",
              "      <td>6.964616</td>\n",
              "      <td>1.956684</td>\n",
              "      <td>100</td>\n",
              "    </tr>\n",
              "    <tr>\n",
              "      <th>101</th>\n",
              "      <td>6.668152</td>\n",
              "      <td>2.018996</td>\n",
              "      <td>6.359541</td>\n",
              "      <td>1.886348</td>\n",
              "      <td>101</td>\n",
              "    </tr>\n",
              "    <tr>\n",
              "      <th>102</th>\n",
              "      <td>5.907451</td>\n",
              "      <td>1.863106</td>\n",
              "      <td>7.966761</td>\n",
              "      <td>2.202112</td>\n",
              "      <td>102</td>\n",
              "    </tr>\n",
              "  </tbody>\n",
              "</table>\n",
              "</div>\n",
              "      <button class=\"colab-df-convert\" onclick=\"convertToInteractive('df-d36094dd-61c1-4ac8-b3c8-5067aadfa652')\"\n",
              "              title=\"Convert this dataframe to an interactive table.\"\n",
              "              style=\"display:none;\">\n",
              "        \n",
              "  <svg xmlns=\"http://www.w3.org/2000/svg\" height=\"24px\"viewBox=\"0 0 24 24\"\n",
              "       width=\"24px\">\n",
              "    <path d=\"M0 0h24v24H0V0z\" fill=\"none\"/>\n",
              "    <path d=\"M18.56 5.44l.94 2.06.94-2.06 2.06-.94-2.06-.94-.94-2.06-.94 2.06-2.06.94zm-11 1L8.5 8.5l.94-2.06 2.06-.94-2.06-.94L8.5 2.5l-.94 2.06-2.06.94zm10 10l.94 2.06.94-2.06 2.06-.94-2.06-.94-.94-2.06-.94 2.06-2.06.94z\"/><path d=\"M17.41 7.96l-1.37-1.37c-.4-.4-.92-.59-1.43-.59-.52 0-1.04.2-1.43.59L10.3 9.45l-7.72 7.72c-.78.78-.78 2.05 0 2.83L4 21.41c.39.39.9.59 1.41.59.51 0 1.02-.2 1.41-.59l7.78-7.78 2.81-2.81c.8-.78.8-2.07 0-2.86zM5.41 20L4 18.59l7.72-7.72 1.47 1.35L5.41 20z\"/>\n",
              "  </svg>\n",
              "      </button>\n",
              "      \n",
              "  <style>\n",
              "    .colab-df-container {\n",
              "      display:flex;\n",
              "      flex-wrap:wrap;\n",
              "      gap: 12px;\n",
              "    }\n",
              "\n",
              "    .colab-df-convert {\n",
              "      background-color: #E8F0FE;\n",
              "      border: none;\n",
              "      border-radius: 50%;\n",
              "      cursor: pointer;\n",
              "      display: none;\n",
              "      fill: #1967D2;\n",
              "      height: 32px;\n",
              "      padding: 0 0 0 0;\n",
              "      width: 32px;\n",
              "    }\n",
              "\n",
              "    .colab-df-convert:hover {\n",
              "      background-color: #E2EBFA;\n",
              "      box-shadow: 0px 1px 2px rgba(60, 64, 67, 0.3), 0px 1px 3px 1px rgba(60, 64, 67, 0.15);\n",
              "      fill: #174EA6;\n",
              "    }\n",
              "\n",
              "    [theme=dark] .colab-df-convert {\n",
              "      background-color: #3B4455;\n",
              "      fill: #D2E3FC;\n",
              "    }\n",
              "\n",
              "    [theme=dark] .colab-df-convert:hover {\n",
              "      background-color: #434B5C;\n",
              "      box-shadow: 0px 1px 3px 1px rgba(0, 0, 0, 0.15);\n",
              "      filter: drop-shadow(0px 1px 2px rgba(0, 0, 0, 0.3));\n",
              "      fill: #FFFFFF;\n",
              "    }\n",
              "  </style>\n",
              "\n",
              "      <script>\n",
              "        const buttonEl =\n",
              "          document.querySelector('#df-d36094dd-61c1-4ac8-b3c8-5067aadfa652 button.colab-df-convert');\n",
              "        buttonEl.style.display =\n",
              "          google.colab.kernel.accessAllowed ? 'block' : 'none';\n",
              "\n",
              "        async function convertToInteractive(key) {\n",
              "          const element = document.querySelector('#df-d36094dd-61c1-4ac8-b3c8-5067aadfa652');\n",
              "          const dataTable =\n",
              "            await google.colab.kernel.invokeFunction('convertToInteractive',\n",
              "                                                     [key], {});\n",
              "          if (!dataTable) return;\n",
              "\n",
              "          const docLinkHtml = 'Like what you see? Visit the ' +\n",
              "            '<a target=\"_blank\" href=https://colab.research.google.com/notebooks/data_table.ipynb>data table notebook</a>'\n",
              "            + ' to learn more about interactive tables.';\n",
              "          element.innerHTML = '';\n",
              "          dataTable['output_type'] = 'display_data';\n",
              "          await google.colab.output.renderOutput(dataTable, element);\n",
              "          const docLink = document.createElement('div');\n",
              "          docLink.innerHTML = docLinkHtml;\n",
              "          element.appendChild(docLink);\n",
              "        }\n",
              "      </script>\n",
              "    </div>\n",
              "  </div>\n",
              "  "
            ]
          },
          "metadata": {},
          "execution_count": 105
        }
      ]
    },
    {
      "cell_type": "markdown",
      "metadata": {
        "id": "fyjRRROhZ5ai"
      },
      "source": [
        "The  model  was  complied  with  'adam'  optimiser  and  loss  value  with  mean  square  root. And,  Mean  absolute error was used as metric. The model was trained using the training data set  with 300 epochs and the 'early stop' regularisation method was applied. So, that if the model gets no improvement during the training the 'early stop' stops model to go further repetition(epoch)  during  training.  The validation was also used to validate the model. The minimum loss value found during the training was  16.240 and validation loss was  around 19."
      ]
    },
    {
      "cell_type": "markdown",
      "metadata": {
        "id": "bbr89QDTZ98R"
      },
      "source": [
        "To look the training and validation loss during the training phase, I have drawn the model loss graph which is  shown below:\n"
      ]
    },
    {
      "cell_type": "code",
      "execution_count": null,
      "metadata": {
        "id": "fD7774McSR8R",
        "colab": {
          "base_uri": "https://localhost:8080/",
          "height": 530
        },
        "outputId": "61baf46c-103a-4380-aed7-0469a90b4c5f"
      },
      "outputs": [
        {
          "output_type": "execute_result",
          "data": {
            "text/plain": [
              "<matplotlib.legend.Legend at 0x7f234cc0d370>"
            ]
          },
          "metadata": {},
          "execution_count": 106
        },
        {
          "output_type": "display_data",
          "data": {
            "text/plain": [
              "<Figure size 1080x576 with 1 Axes>"
            ],
            "image/png": "[encoded data removed]"
          },
          "metadata": {
            "needs_background": "light"
          }
        }
      ],
      "source": [
        "\n",
        "#using Matplotlib library to plot the training and validation loss over the number of epochs\n",
        "\n",
        "plt.figure(figsize=(15,8))\n",
        "plt.xlabel('Epoch')\n",
        "plt.ylabel('Mean Square Error')\n",
        "plt.plot(history.epoch, history.history['loss'],\n",
        "           label='Train Loss')\n",
        "plt.plot(history.epoch, history.history['val_loss'],\n",
        "           label = 'Val loss')\n",
        "plt.title('Model loss')\n",
        "plt.legend()"
      ]
    },
    {
      "cell_type": "markdown",
      "metadata": {
        "id": "Zsx4tgyXaPxO"
      },
      "source": [
        "From the figure, it can say that the model   drastically drop on both validation and training loss value as the epoch increases. After the certain point of epoch, the   validation and training loss values remain almost the same. At the end of graph, it is seeing that validation loss value is more than training loss value. This is true because the validation done in the new set of data. This is reason why validation test is necessary in order to look the model ability/skill to learn the new data."
      ]
    },
    {
      "cell_type": "markdown",
      "source": [
        "### The model performace in test dataset"
      ],
      "metadata": {
        "id": "AsoiUkmRQ-VB"
      }
    },
    {
      "cell_type": "code",
      "source": [
        "score = model.evaluate(X_test, y_test, verbose=1)\n",
        "print('loss value: ', score[0])"
      ],
      "metadata": {
        "id": "YxfKa78fBATV",
        "colab": {
          "base_uri": "https://localhost:8080/"
        },
        "outputId": "92feb939-b650-4fc3-cb40-b119b45b6468"
      },
      "execution_count": null,
      "outputs": [
        {
          "output_type": "stream",
          "name": "stdout",
          "text": [
            "4/4 [==============================] - 0s 4ms/step - loss: 10.5735 - mae: 2.4238\n",
            "loss value:  10.573526382446289\n"
          ]
        }
      ]
    },
    {
      "cell_type": "code",
      "execution_count": null,
      "metadata": {
        "id": "y_1poBNTSp8t",
        "colab": {
          "base_uri": "https://localhost:8080/"
        },
        "outputId": "7103fae0-5a62-49f1-b2f0-25c4e156e1dc"
      },
      "outputs": [
        {
          "output_type": "stream",
          "name": "stdout",
          "text": [
            "4/4 [==============================] - 0s 5ms/step - loss: 10.5735 - mae: 2.4238\n",
            "loss value:  10.573526382446289\n",
            "Mean absolute error:  2.4237959384918213\n"
          ]
        }
      ],
      "source": [
        "#check the model performace in test dataset\n",
        "score = model.evaluate(X_test, y_test, verbose=1)\n",
        "print('loss value: ', score[0])\n",
        "print('Mean absolute error: ', score[1])\n"
      ]
    },
    {
      "cell_type": "code",
      "source": [
        "from sklearn.metrics import r2_score, mean_squared_error, mean_absolute_error\n",
        "from math import sqrt\n",
        "# predict the train set\n",
        "y_train_pred = model.predict(X_train)\n",
        "\n",
        "# calculate R2 score, MSE, MAE, and RMSE\n",
        "r2_train = r2_score(y_train, y_train_pred)\n",
        "mse_train = mean_squared_error(y_train, y_train_pred)\n",
        "mae_train = mean_absolute_error(y_train, y_train_pred)\n",
        "rmse_train = sqrt(mse_train)\n"
      ],
      "metadata": {
        "colab": {
          "base_uri": "https://localhost:8080/"
        },
        "id": "KhAjAN4nhZcH",
        "outputId": "99839f4a-657b-48bc-e557-c60131acf888"
      },
      "execution_count": null,
      "outputs": [
        {
          "output_type": "stream",
          "name": "stdout",
          "text": [
            "13/13 [==============================] - 0s 2ms/step\n"
          ]
        }
      ]
    },
    {
      "cell_type": "code",
      "source": [
        "# predict the test set\n",
        "y_test_pred = model.predict(X_test)\n",
        "\n",
        "# calculate R2 score, MSE, MAE, and RMSE\n",
        "r2_test = r2_score(y_test, y_test_pred)\n",
        "mse_test = mean_squared_error(y_test, y_test_pred)\n",
        "mae_test = mean_absolute_error(y_test, y_test_pred)\n",
        "rmse_test = sqrt(mse_test)\n",
        "import pandas as pd\n",
        "metrics_df = pd.DataFrame({'R2': [r2_train, r2_test],\n",
        "                         'MSE': [mse_train, mse_test],\n",
        "                         'MAE': [mae_train, mae_test],\n",
        "                         'RMSE': [rmse_train, rmse_test]},\n",
        "                         index = ['Train', 'Test'])\n",
        "metrics_df"
      ],
      "metadata": {
        "colab": {
          "base_uri": "https://localhost:8080/",
          "height": 129
        },
        "id": "SxsVdQ_bhZfc",
        "outputId": "012e82d2-ef2f-44c1-d3ad-247290ccdb85"
      },
      "execution_count": null,
      "outputs": [
        {
          "output_type": "stream",
          "name": "stdout",
          "text": [
            "4/4 [==============================] - 0s 4ms/step\n"
          ]
        },
        {
          "output_type": "execute_result",
          "data": {
            "text/plain": [
              "             R2        MSE       MAE      RMSE\n",
              "Train  0.891770   6.886451  2.039677  2.624205\n",
              "Test   0.793022  10.573527  2.423796  3.251696"
            ],
            "text/html": [
              "\n",
              "  <div id=\"df-c014ed5c-1aaa-4a18-84cf-e500c22f17d9\">\n",
              "    <div class=\"colab-df-container\">\n",
              "      <div>\n",
              "<style scoped>\n",
              "    .dataframe tbody tr th:only-of-type {\n",
              "        vertical-align: middle;\n",
              "    }\n",
              "\n",
              "    .dataframe tbody tr th {\n",
              "        vertical-align: top;\n",
              "    }\n",
              "\n",
              "    .dataframe thead th {\n",
              "        text-align: right;\n",
              "    }\n",
              "</style>\n",
              "<table border=\"1\" class=\"dataframe\">\n",
              "  <thead>\n",
              "    <tr style=\"text-align: right;\">\n",
              "      <th></th>\n",
              "      <th>R2</th>\n",
              "      <th>MSE</th>\n",
              "      <th>MAE</th>\n",
              "      <th>RMSE</th>\n",
              "    </tr>\n",
              "  </thead>\n",
              "  <tbody>\n",
              "    <tr>\n",
              "      <th>Train</th>\n",
              "      <td>0.891770</td>\n",
              "      <td>6.886451</td>\n",
              "      <td>2.039677</td>\n",
              "      <td>2.624205</td>\n",
              "    </tr>\n",
              "    <tr>\n",
              "      <th>Test</th>\n",
              "      <td>0.793022</td>\n",
              "      <td>10.573527</td>\n",
              "      <td>2.423796</td>\n",
              "      <td>3.251696</td>\n",
              "    </tr>\n",
              "  </tbody>\n",
              "</table>\n",
              "</div>\n",
              "      <button class=\"colab-df-convert\" onclick=\"convertToInteractive('df-c014ed5c-1aaa-4a18-84cf-e500c22f17d9')\"\n",
              "              title=\"Convert this dataframe to an interactive table.\"\n",
              "              style=\"display:none;\">\n",
              "        \n",
              "  <svg xmlns=\"http://www.w3.org/2000/svg\" height=\"24px\"viewBox=\"0 0 24 24\"\n",
              "       width=\"24px\">\n",
              "    <path d=\"M0 0h24v24H0V0z\" fill=\"none\"/>\n",
              "    <path d=\"M18.56 5.44l.94 2.06.94-2.06 2.06-.94-2.06-.94-.94-2.06-.94 2.06-2.06.94zm-11 1L8.5 8.5l.94-2.06 2.06-.94-2.06-.94L8.5 2.5l-.94 2.06-2.06.94zm10 10l.94 2.06.94-2.06 2.06-.94-2.06-.94-.94-2.06-.94 2.06-2.06.94z\"/><path d=\"M17.41 7.96l-1.37-1.37c-.4-.4-.92-.59-1.43-.59-.52 0-1.04.2-1.43.59L10.3 9.45l-7.72 7.72c-.78.78-.78 2.05 0 2.83L4 21.41c.39.39.9.59 1.41.59.51 0 1.02-.2 1.41-.59l7.78-7.78 2.81-2.81c.8-.78.8-2.07 0-2.86zM5.41 20L4 18.59l7.72-7.72 1.47 1.35L5.41 20z\"/>\n",
              "  </svg>\n",
              "      </button>\n",
              "      \n",
              "  <style>\n",
              "    .colab-df-container {\n",
              "      display:flex;\n",
              "      flex-wrap:wrap;\n",
              "      gap: 12px;\n",
              "    }\n",
              "\n",
              "    .colab-df-convert {\n",
              "      background-color: #E8F0FE;\n",
              "      border: none;\n",
              "      border-radius: 50%;\n",
              "      cursor: pointer;\n",
              "      display: none;\n",
              "      fill: #1967D2;\n",
              "      height: 32px;\n",
              "      padding: 0 0 0 0;\n",
              "      width: 32px;\n",
              "    }\n",
              "\n",
              "    .colab-df-convert:hover {\n",
              "      background-color: #E2EBFA;\n",
              "      box-shadow: 0px 1px 2px rgba(60, 64, 67, 0.3), 0px 1px 3px 1px rgba(60, 64, 67, 0.15);\n",
              "      fill: #174EA6;\n",
              "    }\n",
              "\n",
              "    [theme=dark] .colab-df-convert {\n",
              "      background-color: #3B4455;\n",
              "      fill: #D2E3FC;\n",
              "    }\n",
              "\n",
              "    [theme=dark] .colab-df-convert:hover {\n",
              "      background-color: #434B5C;\n",
              "      box-shadow: 0px 1px 3px 1px rgba(0, 0, 0, 0.15);\n",
              "      filter: drop-shadow(0px 1px 2px rgba(0, 0, 0, 0.3));\n",
              "      fill: #FFFFFF;\n",
              "    }\n",
              "  </style>\n",
              "\n",
              "      <script>\n",
              "        const buttonEl =\n",
              "          document.querySelector('#df-c014ed5c-1aaa-4a18-84cf-e500c22f17d9 button.colab-df-convert');\n",
              "        buttonEl.style.display =\n",
              "          google.colab.kernel.accessAllowed ? 'block' : 'none';\n",
              "\n",
              "        async function convertToInteractive(key) {\n",
              "          const element = document.querySelector('#df-c014ed5c-1aaa-4a18-84cf-e500c22f17d9');\n",
              "          const dataTable =\n",
              "            await google.colab.kernel.invokeFunction('convertToInteractive',\n",
              "                                                     [key], {});\n",
              "          if (!dataTable) return;\n",
              "\n",
              "          const docLinkHtml = 'Like what you see? Visit the ' +\n",
              "            '<a target=\"_blank\" href=https://colab.research.google.com/notebooks/data_table.ipynb>data table notebook</a>'\n",
              "            + ' to learn more about interactive tables.';\n",
              "          element.innerHTML = '';\n",
              "          dataTable['output_type'] = 'display_data';\n",
              "          await google.colab.output.renderOutput(dataTable, element);\n",
              "          const docLink = document.createElement('div');\n",
              "          docLink.innerHTML = docLinkHtml;\n",
              "          element.appendChild(docLink);\n",
              "        }\n",
              "      </script>\n",
              "    </div>\n",
              "  </div>\n",
              "  "
            ]
          },
          "metadata": {},
          "execution_count": 110
        }
      ]
    },
    {
      "cell_type": "markdown",
      "source": [
        " the results of a model evaluation, specifically for a regression model. The R2, MSE, MAE, and RMSE values are all metrics used to evaluate the performance of the model. The values are separated into two sections, \"Train\" and \"Test\", indicating that the model was trained and tested on different datasets.\n",
        "\n",
        "R2 (coefficient of determination) ranges from 0 to 1, and the closer to 1 it is, the better the model is at explaining the variance in the target variable. The R2 value for the train set is 0.865506 and for the test set is 0.828826, indicating that the model is able to explain a significant amount of the variance in the target variable.\n",
        "\n",
        "MSE (Mean Squared Error) and MAE (Mean Absolute Error) are measures of the average difference between the predicted and actual values. The lower these values are, the better the model is at making accurate predictions. The MSE for the train set is 8.557509 and for the test set is 8.744460, indicating that the model is not able to make highly accurate predictions.\n",
        "\n",
        "RMSE (Root Mean Squared Error) is similar to MSE but it is computed after taking the square root of the MSE. The RMSE for the train set is 2.925322 and for the test set is 2.957103, indicating that the model is not able to make highly accurate predictions."
      ],
      "metadata": {
        "id": "VZnWbc9geYwG"
      }
    },
    {
      "cell_type": "markdown",
      "source": [
        "### Predict the house price"
      ],
      "metadata": {
        "id": "D9YVDNnmi80g"
      }
    },
    {
      "cell_type": "code",
      "execution_count": null,
      "metadata": {
        "id": "itGYPWmYSp41",
        "colab": {
          "base_uri": "https://localhost:8080/"
        },
        "outputId": "78643ae4-b269-4fa2-86ba-66f3dd6a0ef4"
      },
      "outputs": [
        {
          "output_type": "stream",
          "name": "stdout",
          "text": [
            "4/4 [==============================] - 0s 3ms/step\n",
            "[15.931351  22.64183   13.973979  18.684145  14.889694  19.714035\n",
            " 14.833106  39.526134  18.784248  23.858948  18.4937    20.645931\n",
            " 13.673315  18.029106  12.592616  24.446873  19.983444  16.650843\n",
            "  7.257125  19.346415  20.502     25.799372  11.037684  34.783604\n",
            " 19.346586  21.26188   20.413898  30.73367   34.187126  15.430391\n",
            " 25.935831  15.822124  25.53435   23.41248   15.248249  23.177021\n",
            " 26.539474  20.020645  33.088814  28.051975  12.170685  16.620676\n",
            " 12.399331  21.67306   20.966732  19.987492  14.374072  19.006214\n",
            " 19.420359  19.58562   15.592499  26.319813  24.157913  20.049072\n",
            " 12.516641  23.81398   16.016485  22.926086  21.537941  12.741469\n",
            " 23.243536  18.056612  23.057405  22.317324  25.102337  41.017635\n",
            " 23.140152  26.887535  14.821866  24.325132  13.997584  19.474915\n",
            " 18.659761  23.725176  21.430155  22.09017   20.98573   21.444107\n",
            " 22.858988  19.856188  23.830036  23.433746  12.555078  17.716127\n",
            " 20.021461  22.02371   20.986538  21.825323  13.6729555 21.314716\n",
            " 21.204473  15.110697  19.94589   21.1334    12.652105  20.776634\n",
            " 16.3486    13.365888 ]\n"
          ]
        }
      ],
      "source": [
        "'''=== predict the house price ==='''\n",
        "\n",
        "# predict house price using the test data\n",
        "test_predictions = model.predict(X_test).flatten()\n",
        "print(test_predictions)\n"
      ]
    },
    {
      "cell_type": "markdown",
      "metadata": {
        "id": "pEfRBWCVaaUt"
      },
      "source": [
        "The model was then tested using the  test dataset  and it was found that Mean absolute error is   2.633737377 i.e   around $2633 less or more in the prediction value.   The prediction was performed with the test data set and got the prediction values as below. The table of predicted value and true value is shown in table:"
      ]
    },
    {
      "cell_type": "code",
      "execution_count": null,
      "metadata": {
        "id": "LLQOsN2cSp0u",
        "colab": {
          "base_uri": "https://localhost:8080/",
          "height": 363
        },
        "outputId": "9938c221-853d-435f-84c5-26dea8aaf20d"
      },
      "outputs": [
        {
          "output_type": "execute_result",
          "data": {
            "text/plain": [
              "   True Value  Predicted Value\n",
              "0        19.1        15.931351\n",
              "1        23.9        22.641830\n",
              "2        13.4        13.973979\n",
              "3         7.0        18.684145\n",
              "4        10.8        14.889694\n",
              "5        18.5        19.714035\n",
              "6        12.7        14.833106\n",
              "7        46.7        39.526134\n",
              "8        17.5        18.784248\n",
              "9        23.3        23.858948"
            ],
            "text/html": [
              "\n",
              "  <div id=\"df-da57130a-01d4-4133-a9a8-ec3391cdd648\">\n",
              "    <div class=\"colab-df-container\">\n",
              "      <div>\n",
              "<style scoped>\n",
              "    .dataframe tbody tr th:only-of-type {\n",
              "        vertical-align: middle;\n",
              "    }\n",
              "\n",
              "    .dataframe tbody tr th {\n",
              "        vertical-align: top;\n",
              "    }\n",
              "\n",
              "    .dataframe thead th {\n",
              "        text-align: right;\n",
              "    }\n",
              "</style>\n",
              "<table border=\"1\" class=\"dataframe\">\n",
              "  <thead>\n",
              "    <tr style=\"text-align: right;\">\n",
              "      <th></th>\n",
              "      <th>True Value</th>\n",
              "      <th>Predicted Value</th>\n",
              "    </tr>\n",
              "  </thead>\n",
              "  <tbody>\n",
              "    <tr>\n",
              "      <th>0</th>\n",
              "      <td>19.1</td>\n",
              "      <td>15.931351</td>\n",
              "    </tr>\n",
              "    <tr>\n",
              "      <th>1</th>\n",
              "      <td>23.9</td>\n",
              "      <td>22.641830</td>\n",
              "    </tr>\n",
              "    <tr>\n",
              "      <th>2</th>\n",
              "      <td>13.4</td>\n",
              "      <td>13.973979</td>\n",
              "    </tr>\n",
              "    <tr>\n",
              "      <th>3</th>\n",
              "      <td>7.0</td>\n",
              "      <td>18.684145</td>\n",
              "    </tr>\n",
              "    <tr>\n",
              "      <th>4</th>\n",
              "      <td>10.8</td>\n",
              "      <td>14.889694</td>\n",
              "    </tr>\n",
              "    <tr>\n",
              "      <th>5</th>\n",
              "      <td>18.5</td>\n",
              "      <td>19.714035</td>\n",
              "    </tr>\n",
              "    <tr>\n",
              "      <th>6</th>\n",
              "      <td>12.7</td>\n",
              "      <td>14.833106</td>\n",
              "    </tr>\n",
              "    <tr>\n",
              "      <th>7</th>\n",
              "      <td>46.7</td>\n",
              "      <td>39.526134</td>\n",
              "    </tr>\n",
              "    <tr>\n",
              "      <th>8</th>\n",
              "      <td>17.5</td>\n",
              "      <td>18.784248</td>\n",
              "    </tr>\n",
              "    <tr>\n",
              "      <th>9</th>\n",
              "      <td>23.3</td>\n",
              "      <td>23.858948</td>\n",
              "    </tr>\n",
              "  </tbody>\n",
              "</table>\n",
              "</div>\n",
              "      <button class=\"colab-df-convert\" onclick=\"convertToInteractive('df-da57130a-01d4-4133-a9a8-ec3391cdd648')\"\n",
              "              title=\"Convert this dataframe to an interactive table.\"\n",
              "              style=\"display:none;\">\n",
              "        \n",
              "  <svg xmlns=\"http://www.w3.org/2000/svg\" height=\"24px\"viewBox=\"0 0 24 24\"\n",
              "       width=\"24px\">\n",
              "    <path d=\"M0 0h24v24H0V0z\" fill=\"none\"/>\n",
              "    <path d=\"M18.56 5.44l.94 2.06.94-2.06 2.06-.94-2.06-.94-.94-2.06-.94 2.06-2.06.94zm-11 1L8.5 8.5l.94-2.06 2.06-.94-2.06-.94L8.5 2.5l-.94 2.06-2.06.94zm10 10l.94 2.06.94-2.06 2.06-.94-2.06-.94-.94-2.06-.94 2.06-2.06.94z\"/><path d=\"M17.41 7.96l-1.37-1.37c-.4-.4-.92-.59-1.43-.59-.52 0-1.04.2-1.43.59L10.3 9.45l-7.72 7.72c-.78.78-.78 2.05 0 2.83L4 21.41c.39.39.9.59 1.41.59.51 0 1.02-.2 1.41-.59l7.78-7.78 2.81-2.81c.8-.78.8-2.07 0-2.86zM5.41 20L4 18.59l7.72-7.72 1.47 1.35L5.41 20z\"/>\n",
              "  </svg>\n",
              "      </button>\n",
              "      \n",
              "  <style>\n",
              "    .colab-df-container {\n",
              "      display:flex;\n",
              "      flex-wrap:wrap;\n",
              "      gap: 12px;\n",
              "    }\n",
              "\n",
              "    .colab-df-convert {\n",
              "      background-color: #E8F0FE;\n",
              "      border: none;\n",
              "      border-radius: 50%;\n",
              "      cursor: pointer;\n",
              "      display: none;\n",
              "      fill: #1967D2;\n",
              "      height: 32px;\n",
              "      padding: 0 0 0 0;\n",
              "      width: 32px;\n",
              "    }\n",
              "\n",
              "    .colab-df-convert:hover {\n",
              "      background-color: #E2EBFA;\n",
              "      box-shadow: 0px 1px 2px rgba(60, 64, 67, 0.3), 0px 1px 3px 1px rgba(60, 64, 67, 0.15);\n",
              "      fill: #174EA6;\n",
              "    }\n",
              "\n",
              "    [theme=dark] .colab-df-convert {\n",
              "      background-color: #3B4455;\n",
              "      fill: #D2E3FC;\n",
              "    }\n",
              "\n",
              "    [theme=dark] .colab-df-convert:hover {\n",
              "      background-color: #434B5C;\n",
              "      box-shadow: 0px 1px 3px 1px rgba(0, 0, 0, 0.15);\n",
              "      filter: drop-shadow(0px 1px 2px rgba(0, 0, 0, 0.3));\n",
              "      fill: #FFFFFF;\n",
              "    }\n",
              "  </style>\n",
              "\n",
              "      <script>\n",
              "        const buttonEl =\n",
              "          document.querySelector('#df-da57130a-01d4-4133-a9a8-ec3391cdd648 button.colab-df-convert');\n",
              "        buttonEl.style.display =\n",
              "          google.colab.kernel.accessAllowed ? 'block' : 'none';\n",
              "\n",
              "        async function convertToInteractive(key) {\n",
              "          const element = document.querySelector('#df-da57130a-01d4-4133-a9a8-ec3391cdd648');\n",
              "          const dataTable =\n",
              "            await google.colab.kernel.invokeFunction('convertToInteractive',\n",
              "                                                     [key], {});\n",
              "          if (!dataTable) return;\n",
              "\n",
              "          const docLinkHtml = 'Like what you see? Visit the ' +\n",
              "            '<a target=\"_blank\" href=https://colab.research.google.com/notebooks/data_table.ipynb>data table notebook</a>'\n",
              "            + ' to learn more about interactive tables.';\n",
              "          element.innerHTML = '';\n",
              "          dataTable['output_type'] = 'display_data';\n",
              "          await google.colab.output.renderOutput(dataTable, element);\n",
              "          const docLink = document.createElement('div');\n",
              "          docLink.innerHTML = docLinkHtml;\n",
              "          element.appendChild(docLink);\n",
              "        }\n",
              "      </script>\n",
              "    </div>\n",
              "  </div>\n",
              "  "
            ]
          },
          "metadata": {},
          "execution_count": 112
        }
      ],
      "source": [
        "# show the true value and predicted value in dataframe\n",
        "true_predicted = pd.DataFrame(list(zip(y_test, test_predictions)),\n",
        "                    columns=['True Value','Predicted Value'])\n",
        "true_predicted.head(10)"
      ]
    },
    {
      "cell_type": "markdown",
      "metadata": {
        "id": "zUp9l-DUafiY"
      },
      "source": [
        "The finally part was to visualise the prediction value from model; how accurate does the model predict the test data. To evaluate the learning capability of the  model, firstly I have drawn line graph between predicted and true values, but it   doesn’t give much meaning, so I have drawn another graph which you can find later. Below is the screen shot of line graph:"
      ]
    },
    {
      "cell_type": "code",
      "execution_count": null,
      "metadata": {
        "id": "cXMwhZpTSpww",
        "colab": {
          "base_uri": "https://localhost:8080/",
          "height": 506
        },
        "outputId": "7f2267c0-cd3c-4fef-9d3c-521ddab95993"
      },
      "outputs": [
        {
          "output_type": "display_data",
          "data": {
            "text/plain": [
              "<Figure size 2160x720 with 1 Axes>"
            ],
            "image/png": "[encoded data removed]"
          },
          "metadata": {
            "needs_background": "light"
          }
        }
      ],
      "source": [
        "#visiulize the true value with predicted value (using line graph)\n",
        "x = test_predictions\n",
        "y = y_test\n",
        "plt.figure(figsize=(30,10))\n",
        "plt.plot(x, label='predicted value')\n",
        "plt.plot(y, label='true value')\n",
        "plt.title('Evaluation Result')\n",
        "plt.legend()\n",
        "plt.show()"
      ]
    },
    {
      "cell_type": "markdown",
      "metadata": {
        "id": "UZkIXbayakEW"
      },
      "source": [
        "Another  figure,    the  scatter  plot  was  drawn  between  predicted  values  and  true  values  using  the  diagonal line(45 degree) in the figure. So, if the predicted value is almost or exactly the same as true value then the data points fall in the 45 degree diagonal line. As for example, if true value(x-axis) is 30 and predicted value (y-axis) is 30 , then coordinate point will be (30, 30) and it must lie is the 45 degree diagonal line.  Below is the screen shot"
      ]
    },
    {
      "cell_type": "code",
      "execution_count": null,
      "metadata": {
        "id": "tTTHvKBwSps1",
        "colab": {
          "base_uri": "https://localhost:8080/",
          "height": 404
        },
        "outputId": "9979f19d-0d30-44b7-a6a3-7531db93492b"
      },
      "outputs": [
        {
          "output_type": "display_data",
          "data": {
            "text/plain": [
              "<Figure size 720x432 with 1 Axes>"
            ],
            "image/png": "[encoded data removed]"
          },
          "metadata": {
            "needs_background": "light"
          }
        }
      ],
      "source": [
        "'''=== Visualize the model evaluation skill ==='''\n",
        "\n",
        "\n",
        "# visualize the prediction uisng diagonal line\n",
        "y = test_predictions #y-axis\n",
        "x = y_test #x-axis\n",
        "fig, ax = plt.subplots(figsize=(10,6)) # create figure\n",
        "ax.scatter(x,y) #scatter plots for x,y\n",
        "ax.set(xlim=(0,55), ylim=(0, 55)) #set limit\n",
        "ax.plot(ax.get_xlim(), ax.get_ylim(), color ='red') # draw 45 degree diagonal in figure\n",
        "plt.xlabel('True Values')\n",
        "plt.ylabel('Predicted values')\n",
        "plt.title('Evaluation Result')\n",
        "plt.show()"
      ]
    },
    {
      "cell_type": "markdown",
      "metadata": {
        "id": "Agus5615eMQO"
      },
      "source": [
        "Another  figure,    the  scatter  plot  was  drawn  between  predicted  values  and  true  values  using  the  diagonal line(45 degree) in the figure. So, if the predicted value is almost or exactly the same as true value then the data points fall in the 45 degree diagonal line. As for example, if true value(x-axis) is 30 and predicted value (y-axis) is 30 , then coordinate point will be (30, 30) and it must lie is the 45 degree diagonal line.  Below is the screen shot: From  the  figure,  it  can  see  that  majority  of  the  data  points  lie  close  to  red  line.  Thus,  most  of  test  data  is predicted  very  well.  The  data  points  far  away  from  the    red  line  means    the  difference  between  predicted value and true value is greater amount. The data points that are more close to the red line indicates  less error in prediction. In other words, the model predict very well or close to the true values.   "
      ]
    },
    {
      "cell_type": "markdown",
      "source": [
        "## **After  processing (PCA & Scaling)**"
      ],
      "metadata": {
        "id": "wZQdBWuM67bq"
      }
    },
    {
      "cell_type": "markdown",
      "source": [
        " ###  Creating our  model using Sequential :"
      ],
      "metadata": {
        "id": "KSIKhqIxCeD7"
      }
    },
    {
      "cell_type": "markdown",
      "source": [
        "### Compile the model"
      ],
      "metadata": {
        "id": "bj8Z_YKcCeD7"
      }
    },
    {
      "cell_type": "markdown",
      "source": [
        "The model is compiled with Mean Squared Error loss function, Adam optimizer and Mean Absolute Error metric to train and evaluate its performance in a regression problem"
      ],
      "metadata": {
        "id": "LCgn90lLCeD8"
      }
    },
    {
      "cell_type": "code",
      "source": [
        "#compile model\n",
        "model.compile(loss='mse', optimizer='adam', metrics=['mae']) # use metric as mean absolute error\n",
        "#inspect the model\n",
        "model.summary()"
      ],
      "metadata": {
        "colab": {
          "base_uri": "https://localhost:8080/"
        },
        "outputId": "8bff8da6-bd9b-4cc1-a07c-c949764cf44e",
        "id": "UDTwB-OyCeD8"
      },
      "execution_count": null,
      "outputs": [
        {
          "output_type": "stream",
          "name": "stdout",
          "text": [
            "Model: \"sequential\"\n",
            "_________________________________________________________________\n",
            " Layer (type)                Output Shape              Param #   \n",
            "=================================================================\n",
            " dense (Dense)               (None, 150)               2100      \n",
            "                                                                 \n",
            " dense_1 (Dense)             (None, 150)               22650     \n",
            "                                                                 \n",
            " dense_2 (Dense)             (None, 150)               22650     \n",
            "                                                                 \n",
            " dense_3 (Dense)             (None, 150)               22650     \n",
            "                                                                 \n",
            " dense_4 (Dense)             (None, 150)               22650     \n",
            "                                                                 \n",
            " dense_5 (Dense)             (None, 1)                 151       \n",
            "                                                                 \n",
            "=================================================================\n",
            "Total params: 92,851\n",
            "Trainable params: 92,851\n",
            "Non-trainable params: 0\n",
            "_________________________________________________________________\n"
          ]
        }
      ]
    },
    {
      "cell_type": "markdown",
      "source": [
        "### Model Training"
      ],
      "metadata": {
        "id": "nMPfAXgzCeD8"
      }
    },
    {
      "cell_type": "code",
      "execution_count": null,
      "metadata": {
        "id": "Wyou9aiuCeD8",
        "colab": {
          "base_uri": "https://localhost:8080/",
          "height": 658
        },
        "outputId": "32bc1b27-2823-4ba8-ddc5-d886dad70694"
      },
      "outputs": [
        {
          "output_type": "stream",
          "name": "stdout",
          "text": [
            "Epoch 1/300\n"
          ]
        },
        {
          "output_type": "error",
          "ename": "ValueError",
          "evalue": "ignored",
          "traceback": [
            "\u001b[0;31m---------------------------------------------------------------------------\u001b[0m",
            "\u001b[0;31mValueError\u001b[0m                                Traceback (most recent call last)",
            "\u001b[0;32m<ipython-input-116-f2382aeb0326>\u001b[0m in \u001b[0;36m<module>\u001b[0;34m\u001b[0m\n\u001b[1;32m      2\u001b[0m \u001b[0;34m\u001b[0m\u001b[0m\n\u001b[1;32m      3\u001b[0m \u001b[0mearly_stop\u001b[0m \u001b[0;34m=\u001b[0m \u001b[0mEarlyStopping\u001b[0m\u001b[0;34m(\u001b[0m\u001b[0mmonitor\u001b[0m\u001b[0;34m=\u001b[0m\u001b[0;34m'val_loss'\u001b[0m\u001b[0;34m,\u001b[0m \u001b[0mpatience\u001b[0m\u001b[0;34m=\u001b[0m\u001b[0;36m15\u001b[0m\u001b[0;34m)\u001b[0m \u001b[0;31m# stops training when it doesn't show improvemnet.\u001b[0m\u001b[0;34m\u001b[0m\u001b[0;34m\u001b[0m\u001b[0m\n\u001b[0;32m----> 4\u001b[0;31m \u001b[0mhistory\u001b[0m \u001b[0;34m=\u001b[0m \u001b[0mmodel\u001b[0m\u001b[0;34m.\u001b[0m\u001b[0mfit\u001b[0m\u001b[0;34m(\u001b[0m\u001b[0mX_train_pca\u001b[0m\u001b[0;34m,\u001b[0m \u001b[0my_train_pca\u001b[0m\u001b[0;34m,\u001b[0m \u001b[0mepochs\u001b[0m\u001b[0;34m=\u001b[0m\u001b[0;36m300\u001b[0m\u001b[0;34m,\u001b[0m \u001b[0mvalidation_data\u001b[0m\u001b[0;34m=\u001b[0m\u001b[0;34m(\u001b[0m\u001b[0mX_val_pca\u001b[0m\u001b[0;34m,\u001b[0m \u001b[0my_val_pca\u001b[0m\u001b[0;34m)\u001b[0m\u001b[0;34m,\u001b[0m \u001b[0mverbose\u001b[0m\u001b[0;34m=\u001b[0m\u001b[0;36m1\u001b[0m\u001b[0;34m,\u001b[0m \u001b[0mcallbacks\u001b[0m\u001b[0;34m=\u001b[0m\u001b[0;34m[\u001b[0m\u001b[0mearly_stop\u001b[0m\u001b[0;34m]\u001b[0m\u001b[0;34m)\u001b[0m\u001b[0;34m\u001b[0m\u001b[0;34m\u001b[0m\u001b[0m\n\u001b[0m\u001b[1;32m      5\u001b[0m '''\n\u001b[1;32m      6\u001b[0m history = model.fit(X_train_pca, y_train_pca, epochs=500, \n",
            "\u001b[0;32m/usr/local/lib/python3.8/dist-packages/keras/utils/traceback_utils.py\u001b[0m in \u001b[0;36merror_handler\u001b[0;34m(*args, **kwargs)\u001b[0m\n\u001b[1;32m     65\u001b[0m     \u001b[0;32mexcept\u001b[0m \u001b[0mException\u001b[0m \u001b[0;32mas\u001b[0m \u001b[0me\u001b[0m\u001b[0;34m:\u001b[0m  \u001b[0;31m# pylint: disable=broad-except\u001b[0m\u001b[0;34m\u001b[0m\u001b[0;34m\u001b[0m\u001b[0m\n\u001b[1;32m     66\u001b[0m       \u001b[0mfiltered_tb\u001b[0m \u001b[0;34m=\u001b[0m \u001b[0m_process_traceback_frames\u001b[0m\u001b[0;34m(\u001b[0m\u001b[0me\u001b[0m\u001b[0;34m.\u001b[0m\u001b[0m__traceback__\u001b[0m\u001b[0;34m)\u001b[0m\u001b[0;34m\u001b[0m\u001b[0;34m\u001b[0m\u001b[0m\n\u001b[0;32m---> 67\u001b[0;31m       \u001b[0;32mraise\u001b[0m \u001b[0me\u001b[0m\u001b[0;34m.\u001b[0m\u001b[0mwith_traceback\u001b[0m\u001b[0;34m(\u001b[0m\u001b[0mfiltered_tb\u001b[0m\u001b[0;34m)\u001b[0m \u001b[0;32mfrom\u001b[0m \u001b[0;32mNone\u001b[0m\u001b[0;34m\u001b[0m\u001b[0;34m\u001b[0m\u001b[0m\n\u001b[0m\u001b[1;32m     68\u001b[0m     \u001b[0;32mfinally\u001b[0m\u001b[0;34m:\u001b[0m\u001b[0;34m\u001b[0m\u001b[0;34m\u001b[0m\u001b[0m\n\u001b[1;32m     69\u001b[0m       \u001b[0;32mdel\u001b[0m \u001b[0mfiltered_tb\u001b[0m\u001b[0;34m\u001b[0m\u001b[0;34m\u001b[0m\u001b[0m\n",
            "\u001b[0;32m/usr/local/lib/python3.8/dist-packages/keras/engine/training.py\u001b[0m in \u001b[0;36mtf__train_function\u001b[0;34m(iterator)\u001b[0m\n\u001b[1;32m     13\u001b[0m                 \u001b[0;32mtry\u001b[0m\u001b[0;34m:\u001b[0m\u001b[0;34m\u001b[0m\u001b[0;34m\u001b[0m\u001b[0m\n\u001b[1;32m     14\u001b[0m                     \u001b[0mdo_return\u001b[0m \u001b[0;34m=\u001b[0m \u001b[0;32mTrue\u001b[0m\u001b[0;34m\u001b[0m\u001b[0;34m\u001b[0m\u001b[0m\n\u001b[0;32m---> 15\u001b[0;31m                     \u001b[0mretval_\u001b[0m \u001b[0;34m=\u001b[0m \u001b[0mag__\u001b[0m\u001b[0;34m.\u001b[0m\u001b[0mconverted_call\u001b[0m\u001b[0;34m(\u001b[0m\u001b[0mag__\u001b[0m\u001b[0;34m.\u001b[0m\u001b[0mld\u001b[0m\u001b[0;34m(\u001b[0m\u001b[0mstep_function\u001b[0m\u001b[0;34m)\u001b[0m\u001b[0;34m,\u001b[0m \u001b[0;34m(\u001b[0m\u001b[0mag__\u001b[0m\u001b[0;34m.\u001b[0m\u001b[0mld\u001b[0m\u001b[0;34m(\u001b[0m\u001b[0mself\u001b[0m\u001b[0;34m)\u001b[0m\u001b[0;34m,\u001b[0m \u001b[0mag__\u001b[0m\u001b[0;34m.\u001b[0m\u001b[0mld\u001b[0m\u001b[0;34m(\u001b[0m\u001b[0miterator\u001b[0m\u001b[0;34m)\u001b[0m\u001b[0;34m)\u001b[0m\u001b[0;34m,\u001b[0m \u001b[0;32mNone\u001b[0m\u001b[0;34m,\u001b[0m \u001b[0mfscope\u001b[0m\u001b[0;34m)\u001b[0m\u001b[0;34m\u001b[0m\u001b[0;34m\u001b[0m\u001b[0m\n\u001b[0m\u001b[1;32m     16\u001b[0m                 \u001b[0;32mexcept\u001b[0m\u001b[0;34m:\u001b[0m\u001b[0;34m\u001b[0m\u001b[0;34m\u001b[0m\u001b[0m\n\u001b[1;32m     17\u001b[0m                     \u001b[0mdo_return\u001b[0m \u001b[0;34m=\u001b[0m \u001b[0;32mFalse\u001b[0m\u001b[0;34m\u001b[0m\u001b[0;34m\u001b[0m\u001b[0m\n",
            "\u001b[0;31mValueError\u001b[0m: in user code:\n\n    File \"/usr/local/lib/python3.8/dist-packages/keras/engine/training.py\", line 1051, in train_function  *\n        return step_function(self, iterator)\n    File \"/usr/local/lib/python3.8/dist-packages/keras/engine/training.py\", line 1040, in step_function  **\n        outputs = model.distribute_strategy.run(run_step, args=(data,))\n    File \"/usr/local/lib/python3.8/dist-packages/keras/engine/training.py\", line 1030, in run_step  **\n        outputs = model.train_step(data)\n    File \"/usr/local/lib/python3.8/dist-packages/keras/engine/training.py\", line 889, in train_step\n        y_pred = self(x, training=True)\n    File \"/usr/local/lib/python3.8/dist-packages/keras/utils/traceback_utils.py\", line 67, in error_handler\n        raise e.with_traceback(filtered_tb) from None\n    File \"/usr/local/lib/python3.8/dist-packages/keras/engine/input_spec.py\", line 264, in assert_input_compatibility\n        raise ValueError(f'Input {input_index} of layer \"{layer_name}\" is '\n\n    ValueError: Input 0 of layer \"sequential\" is incompatible with the layer: expected shape=(None, 13), found shape=(None, 5)\n"
          ]
        }
      ],
      "source": [
        "#train model and perform validation test\n",
        "\n",
        "early_stop = EarlyStopping(monitor='val_loss', patience=15) # stops training when it doesn't show improvemnet.\n",
        "history = model.fit(X_train_pca, y_train_pca, epochs=300, validation_data=(X_val_pca, y_val_pca), verbose=1, callbacks=[early_stop])\n",
        "'''\n",
        "history = model.fit(X_train_pca, y_train_pca, epochs=500,\n",
        "          validation_split = 0.2, verbose=1, callbacks=[early_stop])'''"
      ]
    },
    {
      "cell_type": "code",
      "source": [
        "hist_df = pd.DataFrame(history.history)\n",
        "hist_df['epoch'] = history.epoch\n",
        "hist_df.tail()\n"
      ],
      "metadata": {
        "id": "60oIjcLzCeD8"
      },
      "execution_count": null,
      "outputs": []
    },
    {
      "cell_type": "code",
      "execution_count": null,
      "metadata": {
        "id": "6JmRpl2aCeD9"
      },
      "outputs": [],
      "source": [
        "\n",
        "#using Matplotlib library to plot the training and validation loss over the number of epochs\n",
        "\n",
        "plt.figure(figsize=(15,8))\n",
        "plt.xlabel('Epoch')\n",
        "plt.ylabel('Mean Square Error')\n",
        "plt.plot(history.epoch, history.history['loss'],\n",
        "           label='Train Loss')\n",
        "plt.plot(history.epoch, history.history['val_loss'],\n",
        "           label = 'Val loss')\n",
        "plt.title('Model loss with PCA transformed data')\n",
        "plt.legend()"
      ]
    },
    {
      "cell_type": "markdown",
      "source": [
        "### The model performace in test dataset"
      ],
      "metadata": {
        "id": "ufjmpbf0CeD9"
      }
    },
    {
      "cell_type": "code",
      "source": [
        "score = model.evaluate(X_test_pca, y_test_pca, verbose=1)\n",
        "print('loss value: ', score[0])"
      ],
      "metadata": {
        "id": "RsfWwK9MCeD9"
      },
      "execution_count": null,
      "outputs": []
    },
    {
      "cell_type": "code",
      "execution_count": null,
      "metadata": {
        "id": "zSjZZTYICeD-"
      },
      "outputs": [],
      "source": [
        "#check the model performace in test dataset\n",
        "score = model.evaluate(X_test_pca, y_test_pca, verbose=1)\n",
        "print('loss value: ', score[0])\n",
        "print('Mean absolute error: ', score[1])\n"
      ]
    },
    {
      "cell_type": "markdown",
      "source": [
        "### Predict the house price"
      ],
      "metadata": {
        "id": "yyGetVzsCeD-"
      }
    },
    {
      "cell_type": "code",
      "execution_count": null,
      "metadata": {
        "id": "XCHN8nxrCeD-"
      },
      "outputs": [],
      "source": [
        "'''=== predict the house price ==='''\n",
        "\n",
        "# predict house price using the test data\n",
        "test_predictions = model.predict(X_test_pca).flatten()\n",
        "print(test_predictions)\n"
      ]
    },
    {
      "cell_type": "code",
      "execution_count": null,
      "metadata": {
        "id": "pGdU3Z0lCeD_"
      },
      "outputs": [],
      "source": [
        "# show the true value and predicted value in dataframe\n",
        "true_predicted = pd.DataFrame(list(zip(y_test_pca, test_predictions)),\n",
        "                    columns=['True Value','Predicted Value'])\n",
        "true_predicted.head(10)"
      ]
    },
    {
      "cell_type": "code",
      "source": [
        "x = X_test_pca\n",
        "y = y_test_pca\n",
        "plt.figure(figsize=(30,10))\n",
        "plt.plot(x, label='predicted value')\n",
        "plt.plot(y, label='true value')\n",
        "plt.title('Prediction with PCA transformed data')\n",
        "plt.legend()\n",
        "plt.show()"
      ],
      "metadata": {
        "id": "eqCmU5nHL2oq"
      },
      "execution_count": null,
      "outputs": []
    },
    {
      "cell_type": "code",
      "execution_count": null,
      "metadata": {
        "id": "1iR-zZDwCeD_"
      },
      "outputs": [],
      "source": [
        "'''=== Visualize the model evaluation skill ==='''\n",
        "\n",
        "\n",
        "# visualize the prediction uisng diagonal line\n",
        "y = test_predictions #y-axis\n",
        "x = y_test_pca #x-axis\n",
        "fig, ax = plt.subplots(figsize=(10,6)) # create figure\n",
        "ax.scatter(x,y) #scatter plots for x,y\n",
        "ax.set(xlim=(0,55), ylim=(0, 55)) #set limit\n",
        "ax.plot(ax.get_xlim(), ax.get_ylim(), color ='red') # draw 45 degree diagonal in figure\n",
        "plt.xlabel('True Values')\n",
        "plt.ylabel('Predicted values')\n",
        "plt.title('Evaluation Result')\n",
        "plt.show()"
      ]
    },
    {
      "cell_type": "markdown",
      "source": [
        "evaluation metrics compare"
      ],
      "metadata": {
        "id": "lU1sIlGBNnsC"
      }
    },
    {
      "cell_type": "code",
      "source": [
        "import matplotlib.pyplot as plt\n",
        "\n",
        "# calculate MAE and MSE for the model trained on the original data\n",
        "from sklearn.metrics import mean_absolute_error, mean_squared_error\n",
        "\n",
        "y_pred_original = model.predict(X_test)\n",
        "mae_original = mean_absolute_error(y_test, y_pred_original)\n",
        "mse_original = mean_squared_error(y_test, y_pred_original)\n",
        "print('MAE for model trained on original data:', mae_original)\n",
        "print('MSE for model trained on original data:', mse_original)\n",
        "\n",
        "# calculate MAE and MSE for the model trained on the PCA transformed data\n",
        "y_pred_pca = model.predict(X_test_pca)\n",
        "mae_pca = mean_absolute_error(y_test_pca, y_pred_pca)\n",
        "mse_pca = mean_squared_error(y_test_pca, y_pred_pca)\n",
        "print('MAE for model trained on PCA transformed data:', mae_pca)\n",
        "print('MSE for model trained on PCA transformed data:', mse_pca)\n",
        "\n",
        "# create a scatter plot to compare the predicted and true values for the model trained on the original data\n",
        "plt.scatter(y_pred_original, y_test)\n",
        "plt.title('Predicted vs True Values (Original Data)')\n",
        "plt.xlabel('Predicted Values')\n",
        "plt.ylabel('True Values')\n",
        "plt.show()\n",
        "\n",
        "# create a scatter plot to compare the predicted and true values for the model trained on the PCA transformed data\n",
        "plt.scatter(y_pred_pca, y_test_pca)\n",
        "plt.title('Predicted vs True Values (PCA Transformed Data)')\n",
        "plt.xlabel('Predicted Values')\n",
        "plt.ylabel('True Values')\n",
        "plt.show()\n"
      ],
      "metadata": {
        "id": "74IO3O3IQzlQ"
      },
      "execution_count": null,
      "outputs": []
    },
    {
      "cell_type": "markdown",
      "source": [
        "# Limitations"
      ],
      "metadata": {
        "id": "jNv21SiwhmNb"
      }
    },
    {
      "cell_type": "markdown",
      "source": [
        "Data limitations\n",
        "- Boston housing data was published in 1978 and never updated.\n",
        "- only 504 records wasn't enough for training.\n",
        "- Census Service censored the data so some values might not be true.\n",
        "- Features are not normally distributed."
      ],
      "metadata": {
        "id": "DP5Xc5iZhriT"
      }
    },
    {
      "cell_type": "markdown",
      "source": [
        "# Recommendations"
      ],
      "metadata": {
        "id": "b0d82dSt-oN1"
      }
    },
    {
      "cell_type": "markdown",
      "source": [
        "- Use some advanced methods to normalize data.\n",
        "- Use Randome forest regression."
      ],
      "metadata": {
        "id": "8RihUqZz-s31"
      }
    }
  ],
  "metadata": {
    "colab": {
      "provenance": [],
      "collapsed_sections": [
        "iClI-UsvOCJF",
        "yIF20tWZOfWz",
        "Oa-4PcxqWZDJ",
        "GQV0dtb4YLFW",
        "2AiqK4xpor6_",
        "g8g7x7Azihx1",
        "6FXVjvtfPROU",
        "pD0oGsNyPU77",
        "eLpFfa9EwI0o",
        "FuPhen7Lwj4w",
        "zW--TDKjhFRD"
      ]
    },
    "kernelspec": {
      "display_name": "Python 3",
      "name": "python3"
    },
    "language_info": {
      "name": "python"
    }
  },
  "nbformat": 4,
  "nbformat_minor": 0
}