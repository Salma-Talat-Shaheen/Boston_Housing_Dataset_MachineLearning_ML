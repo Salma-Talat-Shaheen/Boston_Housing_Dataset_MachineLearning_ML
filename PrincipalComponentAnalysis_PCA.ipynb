{
  "cells": [
    {
      "cell_type": "markdown",
      "metadata": {
        "id": "eBJimfg27XQ5"
      },
      "source": [
        "### **Splitting Data for PCA**"
      ]
    },
    {
      "cell_type": "markdown",
      "metadata": {
        "id": "5-Q01jHjwQVT"
      },
      "source": [
        "Splitting the data into training, validation, and test sets\n",
        "\n",
        "- splitting the data into two sets: a training set and a test set. The suggested split is 70% for the training set and 30% for the test set.\n",
        "\n",
        "- splitting the training set further into a training set and a validation set. The suggested split is 90% for the training set and 10% for the validation set.\n",
        "\n",
        "This way, we will have three sets of data: a training set to train our model (70% of the original dataset), a validation set to tune the hyperparameters of our model (10% of the original dataset), and a test set to evaluate the final performance of our model (20% of the original dataset)."
      ]
    },
    {
      "cell_type": "code",
      "execution_count": null,
      "metadata": {
        "id": "Fhf1ONHqwPbN"
      },
      "outputs": [],
      "source": [
        "\n",
        "# Extract the input attributes and target variable\n",
        "#X_pca = X_principal_a.iloc[:, :-1]\n",
        "#y_pca = X_principal_a.iloc[:, -1]\n",
        "# Split the data into training, validation, and test sets\n",
        "\n",
        "X_train_pca, X_test_pca, y_train_pca, y_test_pca = train_test_split(Features, target, test_size=0.2, random_state=42)\n",
        "X_train_pca, X_val_pca, y_train_pca,y_val_pca = train_test_split(X_train_pca, y_train_pca, test_size=0.125, random_state=42)\n",
        "\n",
        "# The training set now has 70% of the data\n",
        "# The validation set has 10% of the data\n",
        "# The test set has 20% of the data\n"
      ]
    },
    {
      "cell_type": "code",
      "execution_count": null,
      "metadata": {
        "id": "jSQv3S2WU5iC",
        "colab": {
          "base_uri": "https://localhost:8080/"
        },
        "outputId": "7bd63c46-a25f-4245-c94a-ecaaaf44da0d"
      },
      "outputs": [
        {
          "output_type": "stream",
          "name": "stdout",
          "text": [
            "X_train shape: (343, 13)\n",
            "X_val shape: (49, 13)\n",
            "X_test shape: (98, 13)\n"
          ]
        }
      ],
      "source": [
        "# Print the shapes of the training, validation, and test sets :\n",
        "print(f'X_train shape: {X_train_pca.shape}')\n",
        "print(f'X_val shape: {X_val_pca.shape}')\n",
        "print(f'X_test shape: {X_test_pca.shape}')\n"
      ]
    },
    {
      "cell_type": "markdown",
      "metadata": {
        "id": "KsU2-_mBkiEp"
      },
      "source": [
        "## **Principal Component Analysis**\n",
        "\n",
        "---\n",
        "\n",
        "\n",
        "Principal component analysis works by finding a smaller set of column values from an uncorrelated larger set. This method works by representing independent, uncorrelated features as a sum of the original features.\n",
        "\n",
        "Let’s start by importing the **PCA package** from Sklearn. We will also need the **StandardScaler** method from the preprocessing module in Sklearn."
      ]
    },
    {
      "cell_type": "code",
      "execution_count": null,
      "metadata": {
        "id": "D24fqih2lCEw"
      },
      "outputs": [],
      "source": [
        "from sklearn.preprocessing import StandardScaler, normalize\n",
        "from sklearn.decomposition import PCA\n",
        "from datetime import datetime"
      ]
    },
    {
      "cell_type": "markdown",
      "metadata": {
        "id": "d1mYp4fxlMwi"
      },
      "source": [
        "**Next** , let’s scale our data using the standardScaler method. This step helps with numerical stability when the algorithm computes the components"
      ]
    },
    {
      "cell_type": "code",
      "execution_count": null,
      "metadata": {
        "id": "3LCL21yTghKh"
      },
      "outputs": [],
      "source": [
        "\n",
        "# Standardize data\n",
        "scaler = StandardScaler()\n",
        "X_train_pca = scaler.fit_transform(X_train_pca)\n",
        "X_test_pca = scaler.transform(X_test_pca)\n",
        "X_train_pca = pd.DataFrame(X_train_pca)\n",
        "X_train_pca.columns = Features.columns"
      ]
    },
    {
      "cell_type": "code",
      "execution_count": null,
      "metadata": {
        "id": "WEl9JavRgjCS",
        "colab": {
          "base_uri": "https://localhost:8080/",
          "height": 295
        },
        "outputId": "5bd36a3e-aace-46b9-e57a-4875f20f921e"
      },
      "outputs": [
        {
          "output_type": "display_data",
          "data": {
            "text/plain": [
              "<Figure size 432x288 with 1 Axes>"
            ],
            "image/png": "[encoded data removed]"
          },
          "metadata": {
            "needs_background": "light"
          }
        }
      ],
      "source": [
        "#detrimnne number of components\n",
        "\n",
        "import numpy as np\n",
        "pca = PCA(n_components = None)\n",
        "X_principal = pca.fit_transform(X_train_pca)\n",
        "X_principal = pd.DataFrame(X_principal)\n",
        "PC_values = np.arange(pca.n_components_) + 1\n",
        "plt.plot(PC_values, pca.explained_variance_ratio_, '-', linewidth=2, color='blue')\n",
        "plt.scatter(PC_values, pca.explained_variance_ratio_,color='red')\n",
        "plt.axhline()\n",
        "plt.title('Scree Plot')\n",
        "plt.xlabel('Principal Component')\n",
        "plt.ylabel('Variance Explained')\n",
        "plt.show()"
      ]
    },
    {
      "cell_type": "markdown",
      "metadata": {
        "id": "BKCAoaMDmnbe"
      },
      "source": [
        "The x-axis displays the **principal component** and the y-axis displays the **percentage of total variance explained** by each individual principal component.\n",
        "\n",
        "\n"
      ]
    },
    {
      "cell_type": "code",
      "execution_count": null,
      "metadata": {
        "id": "MqbZlqUQmaWh",
        "colab": {
          "base_uri": "https://localhost:8080/"
        },
        "outputId": "9cbfbc74-7436-4979-edbb-6d12f105880b"
      },
      "outputs": [
        {
          "output_type": "stream",
          "name": "stdout",
          "text": [
            "[47.2, 11.16, 8.42, 7.21, 6.6, 5.17, 3.94, 3.31, 2.18, 1.69, 1.45, 1.24, 0.44]\n"
          ]
        }
      ],
      "source": [
        "# percentage of total variance explained by each principal component\n",
        "print([round(num, 2) for num in (pca.explained_variance_ratio_*100).tolist()])"
      ]
    },
    {
      "cell_type": "markdown",
      "metadata": {
        "id": "aVSuPf-Bm4gt"
      },
      "source": [
        "**We can see:**\n",
        "\n",
        "\n",
        "\n",
        "*   The first principal component explains 47.13% of the total variation in the dataset.\n",
        "*   The second principal component explains 11.16% of the total variation.\n",
        "*The third principal component explains 8.54% of the total variation.\n",
        "*The fourth principal component explains 7.22% of the total variation\n",
        "*The fiveth principal component explains 6.55% of the total variation\n",
        "\n",
        " and etc......\n",
        "\n",
        "**Note that the percentages sum to 100%.**\n",
        "\n",
        "\n",
        "\n",
        "\n",
        "\n"
      ]
    },
    {
      "cell_type": "code",
      "execution_count": null,
      "metadata": {
        "id": "-n5ShOoomdRH",
        "colab": {
          "base_uri": "https://localhost:8080/"
        },
        "outputId": "44f395e6-96d8-4c47-a616-684314ac0b92"
      },
      "outputs": [
        {
          "output_type": "stream",
          "name": "stdout",
          "text": [
            "100.0%\n"
          ]
        }
      ],
      "source": [
        "print(str(round(sum(pca.explained_variance_ratio_)*100,2))+\"%\")"
      ]
    },
    {
      "cell_type": "markdown",
      "metadata": {
        "id": "VFoTNA2Wp00H"
      },
      "source": [
        "**The first principal component** of a set of variables is the standardized linear combination of the original variables with the largest variance among all linear combinations (47.13%). **The second principal component** is the standardized linear combination of original variables with the largest variance\n",
        " (11.16%) among all remaining linear combinations, given that the second principal component is not correlated with the first principal component."
      ]
    },
    {
      "cell_type": "markdown",
      "metadata": {
        "id": "RnHvPBe4r7Z3"
      },
      "source": [
        "**Next,** let us try the threshold of variance explained approach. In this case, we hold on to principal components that explain **at least 70%** of the variance cumulatively.  (**With more than fiveth principal component**), the cumulative proportion of the variance explained surpasses 70%, therefore we would consider to keep **fiveth** principal components.  If a higher threshold were used, then additional principal components would have to be retained.\n",
        "\n"
      ]
    },
    {
      "cell_type": "code",
      "execution_count": null,
      "metadata": {
        "id": "1GZCa387sd9G",
        "colab": {
          "base_uri": "https://localhost:8080/"
        },
        "outputId": "1c574d01-98c9-48b3-c161-24c1d668bb41"
      },
      "outputs": [
        {
          "output_type": "stream",
          "name": "stdout",
          "text": [
            "in the 1th the cumulative proportion of the variance explained surpasses : 47.2%\n",
            "in the 2th the cumulative proportion of the variance explained surpasses : 58.35%\n",
            "in the 3th the cumulative proportion of the variance explained surpasses : 66.77%\n",
            "in the 4th the cumulative proportion of the variance explained surpasses : 73.98%\n",
            "in the 5th the cumulative proportion of the variance explained surpasses : 80.58%\n",
            "in the 6th the cumulative proportion of the variance explained surpasses : 85.75%\n",
            "in the 7th the cumulative proportion of the variance explained surpasses : 89.69%\n",
            "in the 8th the cumulative proportion of the variance explained surpasses : 93.01%\n",
            "in the 9th the cumulative proportion of the variance explained surpasses : 95.18%\n",
            "in the 10th the cumulative proportion of the variance explained surpasses : 96.87%\n"
          ]
        }
      ],
      "source": [
        "for i in range (1,11):\n",
        "  print(f\"in the {i}th \"+\"the cumulative proportion of the variance explained surpasses : \"+str(round(sum(pca.explained_variance_ratio_[:i])*100,2))+\"%\")"
      ]
    },
    {
      "cell_type": "code",
      "execution_count": null,
      "metadata": {
        "id": "R6j4eWIZhE6Y",
        "colab": {
          "base_uri": "https://localhost:8080/",
          "height": 423
        },
        "outputId": "47ce47b3-3712-4822-861b-4491074c1496"
      },
      "outputs": [
        {
          "output_type": "execute_result",
          "data": {
            "text/plain": [
              "           P1        P2        P3        P4        P5\n",
              "0   -1.648974  0.021591 -1.273739  0.089720 -0.830904\n",
              "1    4.203886  0.826954 -0.184688  0.345148  0.180703\n",
              "2   -0.089852 -1.204285 -0.430616 -0.566945 -0.126991\n",
              "3   -2.459325  0.605754  0.953015 -0.350154  0.671776\n",
              "4    2.974754  0.849244  1.650239 -0.279261 -1.425614\n",
              "..        ...       ...       ...       ...       ...\n",
              "338  2.812027 -2.297557 -0.791137 -0.808231  3.175165\n",
              "339  2.683602 -1.042976  1.553335  3.676643 -0.663386\n",
              "340  0.908952 -0.869522  1.168289 -1.142270  1.319399\n",
              "341 -1.297118 -0.862607  0.868694 -0.870730 -0.410287\n",
              "342  0.119579 -0.689652 -0.669962 -0.314822  0.288925\n",
              "\n",
              "[343 rows x 5 columns]"
            ],
            "text/html": [
              "\n",
              "  <div id=\"df-c891a1e2-fbc6-4468-b235-b40f54c331a7\">\n",
              "    <div class=\"colab-df-container\">\n",
              "      <div>\n",
              "<style scoped>\n",
              "    .dataframe tbody tr th:only-of-type {\n",
              "        vertical-align: middle;\n",
              "    }\n",
              "\n",
              "    .dataframe tbody tr th {\n",
              "        vertical-align: top;\n",
              "    }\n",
              "\n",
              "    .dataframe thead th {\n",
              "        text-align: right;\n",
              "    }\n",
              "</style>\n",
              "<table border=\"1\" class=\"dataframe\">\n",
              "  <thead>\n",
              "    <tr style=\"text-align: right;\">\n",
              "      <th></th>\n",
              "      <th>P1</th>\n",
              "      <th>P2</th>\n",
              "      <th>P3</th>\n",
              "      <th>P4</th>\n",
              "      <th>P5</th>\n",
              "    </tr>\n",
              "  </thead>\n",
              "  <tbody>\n",
              "    <tr>\n",
              "      <th>0</th>\n",
              "      <td>-1.648974</td>\n",
              "      <td>0.021591</td>\n",
              "      <td>-1.273739</td>\n",
              "      <td>0.089720</td>\n",
              "      <td>-0.830904</td>\n",
              "    </tr>\n",
              "    <tr>\n",
              "      <th>1</th>\n",
              "      <td>4.203886</td>\n",
              "      <td>0.826954</td>\n",
              "      <td>-0.184688</td>\n",
              "      <td>0.345148</td>\n",
              "      <td>0.180703</td>\n",
              "    </tr>\n",
              "    <tr>\n",
              "      <th>2</th>\n",
              "      <td>-0.089852</td>\n",
              "      <td>-1.204285</td>\n",
              "      <td>-0.430616</td>\n",
              "      <td>-0.566945</td>\n",
              "      <td>-0.126991</td>\n",
              "    </tr>\n",
              "    <tr>\n",
              "      <th>3</th>\n",
              "      <td>-2.459325</td>\n",
              "      <td>0.605754</td>\n",
              "      <td>0.953015</td>\n",
              "      <td>-0.350154</td>\n",
              "      <td>0.671776</td>\n",
              "    </tr>\n",
              "    <tr>\n",
              "      <th>4</th>\n",
              "      <td>2.974754</td>\n",
              "      <td>0.849244</td>\n",
              "      <td>1.650239</td>\n",
              "      <td>-0.279261</td>\n",
              "      <td>-1.425614</td>\n",
              "    </tr>\n",
              "    <tr>\n",
              "      <th>...</th>\n",
              "      <td>...</td>\n",
              "      <td>...</td>\n",
              "      <td>...</td>\n",
              "      <td>...</td>\n",
              "      <td>...</td>\n",
              "    </tr>\n",
              "    <tr>\n",
              "      <th>338</th>\n",
              "      <td>2.812027</td>\n",
              "      <td>-2.297557</td>\n",
              "      <td>-0.791137</td>\n",
              "      <td>-0.808231</td>\n",
              "      <td>3.175165</td>\n",
              "    </tr>\n",
              "    <tr>\n",
              "      <th>339</th>\n",
              "      <td>2.683602</td>\n",
              "      <td>-1.042976</td>\n",
              "      <td>1.553335</td>\n",
              "      <td>3.676643</td>\n",
              "      <td>-0.663386</td>\n",
              "    </tr>\n",
              "    <tr>\n",
              "      <th>340</th>\n",
              "      <td>0.908952</td>\n",
              "      <td>-0.869522</td>\n",
              "      <td>1.168289</td>\n",
              "      <td>-1.142270</td>\n",
              "      <td>1.319399</td>\n",
              "    </tr>\n",
              "    <tr>\n",
              "      <th>341</th>\n",
              "      <td>-1.297118</td>\n",
              "      <td>-0.862607</td>\n",
              "      <td>0.868694</td>\n",
              "      <td>-0.870730</td>\n",
              "      <td>-0.410287</td>\n",
              "    </tr>\n",
              "    <tr>\n",
              "      <th>342</th>\n",
              "      <td>0.119579</td>\n",
              "      <td>-0.689652</td>\n",
              "      <td>-0.669962</td>\n",
              "      <td>-0.314822</td>\n",
              "      <td>0.288925</td>\n",
              "    </tr>\n",
              "  </tbody>\n",
              "</table>\n",
              "<p>343 rows × 5 columns</p>\n",
              "</div>\n",
              "      <button class=\"colab-df-convert\" onclick=\"convertToInteractive('df-c891a1e2-fbc6-4468-b235-b40f54c331a7')\"\n",
              "              title=\"Convert this dataframe to an interactive table.\"\n",
              "              style=\"display:none;\">\n",
              "        \n",
              "  <svg xmlns=\"http://www.w3.org/2000/svg\" height=\"24px\"viewBox=\"0 0 24 24\"\n",
              "       width=\"24px\">\n",
              "    <path d=\"M0 0h24v24H0V0z\" fill=\"none\"/>\n",
              "    <path d=\"M18.56 5.44l.94 2.06.94-2.06 2.06-.94-2.06-.94-.94-2.06-.94 2.06-2.06.94zm-11 1L8.5 8.5l.94-2.06 2.06-.94-2.06-.94L8.5 2.5l-.94 2.06-2.06.94zm10 10l.94 2.06.94-2.06 2.06-.94-2.06-.94-.94-2.06-.94 2.06-2.06.94z\"/><path d=\"M17.41 7.96l-1.37-1.37c-.4-.4-.92-.59-1.43-.59-.52 0-1.04.2-1.43.59L10.3 9.45l-7.72 7.72c-.78.78-.78 2.05 0 2.83L4 21.41c.39.39.9.59 1.41.59.51 0 1.02-.2 1.41-.59l7.78-7.78 2.81-2.81c.8-.78.8-2.07 0-2.86zM5.41 20L4 18.59l7.72-7.72 1.47 1.35L5.41 20z\"/>\n",
              "  </svg>\n",
              "      </button>\n",
              "      \n",
              "  <style>\n",
              "    .colab-df-container {\n",
              "      display:flex;\n",
              "      flex-wrap:wrap;\n",
              "      gap: 12px;\n",
              "    }\n",
              "\n",
              "    .colab-df-convert {\n",
              "      background-color: #E8F0FE;\n",
              "      border: none;\n",
              "      border-radius: 50%;\n",
              "      cursor: pointer;\n",
              "      display: none;\n",
              "      fill: #1967D2;\n",
              "      height: 32px;\n",
              "      padding: 0 0 0 0;\n",
              "      width: 32px;\n",
              "    }\n",
              "\n",
              "    .colab-df-convert:hover {\n",
              "      background-color: #E2EBFA;\n",
              "      box-shadow: 0px 1px 2px rgba(60, 64, 67, 0.3), 0px 1px 3px 1px rgba(60, 64, 67, 0.15);\n",
              "      fill: #174EA6;\n",
              "    }\n",
              "\n",
              "    [theme=dark] .colab-df-convert {\n",
              "      background-color: #3B4455;\n",
              "      fill: #D2E3FC;\n",
              "    }\n",
              "\n",
              "    [theme=dark] .colab-df-convert:hover {\n",
              "      background-color: #434B5C;\n",
              "      box-shadow: 0px 1px 3px 1px rgba(0, 0, 0, 0.15);\n",
              "      filter: drop-shadow(0px 1px 2px rgba(0, 0, 0, 0.3));\n",
              "      fill: #FFFFFF;\n",
              "    }\n",
              "  </style>\n",
              "\n",
              "      <script>\n",
              "        const buttonEl =\n",
              "          document.querySelector('#df-c891a1e2-fbc6-4468-b235-b40f54c331a7 button.colab-df-convert');\n",
              "        buttonEl.style.display =\n",
              "          google.colab.kernel.accessAllowed ? 'block' : 'none';\n",
              "\n",
              "        async function convertToInteractive(key) {\n",
              "          const element = document.querySelector('#df-c891a1e2-fbc6-4468-b235-b40f54c331a7');\n",
              "          const dataTable =\n",
              "            await google.colab.kernel.invokeFunction('convertToInteractive',\n",
              "                                                     [key], {});\n",
              "          if (!dataTable) return;\n",
              "\n",
              "          const docLinkHtml = 'Like what you see? Visit the ' +\n",
              "            '<a target=\"_blank\" href=https://colab.research.google.com/notebooks/data_table.ipynb>data table notebook</a>'\n",
              "            + ' to learn more about interactive tables.';\n",
              "          element.innerHTML = '';\n",
              "          dataTable['output_type'] = 'display_data';\n",
              "          await google.colab.output.renderOutput(dataTable, element);\n",
              "          const docLink = document.createElement('div');\n",
              "          docLink.innerHTML = docLinkHtml;\n",
              "          element.appendChild(docLink);\n",
              "        }\n",
              "      </script>\n",
              "    </div>\n",
              "  </div>\n",
              "  "
            ]
          },
          "metadata": {},
          "execution_count": 36
        }
      ],
      "source": [
        "pca_a = PCA(n_components = 5)\n",
        "X_train_pca = pca_a.fit_transform(X_train_pca)\n",
        "X_test_pca = pca_a.transform(X_test_pca)\n",
        "X_train_pca = pd.DataFrame(X_train_pca)\n",
        "X_train_pca.columns = ['P1', 'P2','P3','P4','P5']\n",
        "X_train_pca"
      ]
    },
    {
      "cell_type": "code",
      "execution_count": null,
      "metadata": {
        "id": "jw8SSWmShQhT",
        "colab": {
          "base_uri": "https://localhost:8080/",
          "height": 282
        },
        "outputId": "464b3d3b-7c25-4c3a-8701-5520a60f9b25"
      },
      "outputs": [
        {
          "output_type": "execute_result",
          "data": {
            "text/plain": [
              "<matplotlib.collections.PathCollection at 0x7f23add17fa0>"
            ]
          },
          "metadata": {},
          "execution_count": 37
        },
        {
          "output_type": "display_data",
          "data": {
            "text/plain": [
              "<Figure size 432x288 with 1 Axes>"
            ],
            "image/png": "[encoded data removed]"
          },
          "metadata": {
            "needs_background": "light"
          }
        }
      ],
      "source": [
        "plt.scatter(X_train_pca['P1'],X_train_pca['P2'])"
      ]
    },
    {
      "cell_type": "markdown",
      "metadata": {
        "id": "U1MX2j3jUxXp"
      },
      "source": [
        "### **Splitting data before PCA**\n",
        "\n",
        "\n",
        "---\n",
        "\n"
      ]
    },
    {
      "cell_type": "code",
      "execution_count": null,
      "metadata": {
        "id": "8mHmnjArU3Ta",
        "colab": {
          "base_uri": "https://localhost:8080/",
          "height": 36
        },
        "outputId": "a5b1f8b0-4496-4eb0-da5e-9a4f4d55032e"
      },
      "outputs": [
        {
          "output_type": "execute_result",
          "data": {
            "text/plain": [
              "''"
            ],
            "application/vnd.google.colaboratory.intrinsic+json": {
              "type": "string"
            }
          },
          "metadata": {},
          "execution_count": 38
        }
      ],
      "source": [
        "# Extract the input attributes and target variable\n",
        "X = boston_df.iloc[:, :-1]\n",
        "y = boston_df.iloc[:, -1]\n",
        "\n",
        "# Split the data into training, validation, and test sets\n",
        "X_train, X_test, y_train, y_test = train_test_split(X, y, test_size=0.2, random_state=42)\n",
        "X_train, X_val, y_train,y_val = train_test_split(X_train, y_train, test_size=0.125, random_state=42)\n",
        "\n",
        "# The training set now has 70% of the data\n",
        "# The validation set has 10% of the data\n",
        "# The test set has 20% of the data\n",
        "''"
      ]
    }
  ],
  "metadata": {
    "colab": {
      "provenance": [],
      "collapsed_sections": [
        "iClI-UsvOCJF",
        "yIF20tWZOfWz",
        "Oa-4PcxqWZDJ",
        "GQV0dtb4YLFW",
        "2AiqK4xpor6_",
        "g8g7x7Azihx1",
        "6FXVjvtfPROU",
        "pD0oGsNyPU77",
        "eLpFfa9EwI0o",
        "FuPhen7Lwj4w",
        "zW--TDKjhFRD"
      ]
    },
    "kernelspec": {
      "display_name": "Python 3",
      "name": "python3"
    },
    "language_info": {
      "name": "python"
    }
  },
  "nbformat": 4,
  "nbformat_minor": 0
}